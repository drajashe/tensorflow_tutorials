{
 "cells": [
  {
   "cell_type": "code",
   "execution_count": 113,
   "metadata": {
    "colab": {
     "autoexec": {
      "startup": false,
      "wait_interval": 0
     }
    },
    "colab_type": "code",
    "id": "rO8YZk9MvQXd"
   },
   "outputs": [],
   "source": [
    "import numpy as np\n",
    "import pandas as pd\n",
    "import tensorflow as tf\n",
    "import matplotlib.pyplot as plt\n",
    "import pickle\n",
    "\n",
    "from time import time\n",
    "%matplotlib inline"
   ]
  },
  {
   "cell_type": "code",
   "execution_count": 2,
   "metadata": {
    "cellView": "code",
    "colab": {
     "autoexec": {
      "startup": false,
      "wait_interval": 0
     },
     "base_uri": "https://localhost:8080/",
     "height": 208,
     "output_extras": [
      {
       "item_id": 21
      }
     ]
    },
    "colab_type": "code",
    "executionInfo": {
     "elapsed": 9011,
     "status": "ok",
     "timestamp": 1521001289514,
     "user": {
      "displayName": "Mayur Kulkarni",
      "photoUrl": "https://lh3.googleusercontent.com/a/default-user=s128",
      "userId": "116301151646646358552"
     },
     "user_tz": -330
    },
    "id": "mYhJ2wOLvQYO",
    "outputId": "522ac1d8-2ceb-47fb-979b-df68a5cd837e"
   },
   "outputs": [
    {
     "name": "stdout",
     "output_type": "stream",
     "text": [
      "--2018-03-14 04:21:21--  https://www.cs.toronto.edu/~kriz/cifar-10-python.tar.gz\r\n",
      "Resolving www.cs.toronto.edu (www.cs.toronto.edu)... 128.100.3.30\n",
      "Connecting to www.cs.toronto.edu (www.cs.toronto.edu)|128.100.3.30|:443... connected.\n",
      "HTTP request sent, awaiting response... 200 OK\n",
      "Length: 170498071 (163M) [application/x-gzip]\n",
      "Saving to: ‘cifar-10-python.tar.gz’\n",
      "\n",
      "cifar-10-python.tar 100%[===================>] 162.60M  17.1MB/s    in 7.8s    \n",
      "\n",
      "2018-03-14 04:21:28 (20.9 MB/s) - ‘cifar-10-python.tar.gz’ saved [170498071/170498071]\n",
      "\n"
     ]
    }
   ],
   "source": [
    "# download CIFAR-10 dataset from: https://www.cs.toronto.edu/~kriz/cifar-10-python.tar.gz\n",
    "!wget https://www.cs.toronto.edu/~kriz/cifar-10-python.tar.gz"
   ]
  },
  {
   "cell_type": "code",
   "execution_count": null,
   "metadata": {
    "colab": {
     "autoexec": {
      "startup": false,
      "wait_interval": 0
     },
     "base_uri": "https://localhost:8080/",
     "height": 34,
     "output_extras": [
      {
       "item_id": 1
      }
     ]
    },
    "colab_type": "code",
    "executionInfo": {
     "elapsed": 1040,
     "status": "ok",
     "timestamp": 1521001354995,
     "user": {
      "displayName": "Mayur Kulkarni",
      "photoUrl": "https://lh3.googleusercontent.com/a/default-user=s128",
      "userId": "116301151646646358552"
     },
     "user_tz": -330
    },
    "id": "UlPzuH-EvlzO",
    "outputId": "1ba69957-de71-44c6-92fa-9517c87bfde2"
   },
   "outputs": [],
   "source": [
    "!mv cifar-10-python.tar.gz /datasets/cifar-10-python.tar.gz\n",
    "# move wherever your want and set the CIFAR_DIR variable"
   ]
  },
  {
   "cell_type": "code",
   "execution_count": 0,
   "metadata": {
    "colab": {
     "autoexec": {
      "startup": false,
      "wait_interval": 0
     }
    },
    "colab_type": "code",
    "id": "hPSeFrxfvQYi"
   },
   "outputs": [],
   "source": [
    "def unpickle(file):\n",
    "    CIFAR_DIR = \"datasets/cifar-10-batches-py/\"\n",
    "    with open(CIFAR_DIR + file, 'rb') as fo:\n",
    "        dict = pickle.load(fo, encoding='bytes')\n",
    "    return dict"
   ]
  },
  {
   "cell_type": "code",
   "execution_count": 0,
   "metadata": {
    "colab": {
     "autoexec": {
      "startup": false,
      "wait_interval": 0
     }
    },
    "colab_type": "code",
    "id": "ZgOXFYPbvQY6"
   },
   "outputs": [],
   "source": [
    "dirs = ['batches.meta', 'data_batch_1', 'data_batch_2', \n",
    "        'data_batch_3', 'data_batch_4', 'data_batch_5',\n",
    "        'test_batch']\n",
    "\n",
    "batch_meta = unpickle(dirs[0])\n",
    "data_batch1 = unpickle(dirs[1])\n",
    "data_batch2 = unpickle(dirs[2])\n",
    "data_batch3 = unpickle(dirs[3])\n",
    "data_batch4 = unpickle(dirs[4])\n",
    "data_batch5 = unpickle(dirs[5])\n",
    "test_batch = unpickle(dirs[6])\n",
    "    "
   ]
  },
  {
   "cell_type": "code",
   "execution_count": 8,
   "metadata": {
    "colab": {
     "autoexec": {
      "startup": false,
      "wait_interval": 0
     },
     "base_uri": "https://localhost:8080/",
     "height": 225,
     "output_extras": [
      {
       "item_id": 1
      }
     ]
    },
    "colab_type": "code",
    "executionInfo": {
     "elapsed": 846,
     "status": "ok",
     "timestamp": 1521001369662,
     "user": {
      "displayName": "Mayur Kulkarni",
      "photoUrl": "https://lh3.googleusercontent.com/a/default-user=s128",
      "userId": "116301151646646358552"
     },
     "user_tz": -330
    },
    "id": "PqPF81F3vQZH",
    "outputId": "7cd33046-192a-4691-9e31-f7f68f4a9c54"
   },
   "outputs": [
    {
     "data": {
      "text/plain": [
       "{b'label_names': [b'airplane',\n",
       "  b'automobile',\n",
       "  b'bird',\n",
       "  b'cat',\n",
       "  b'deer',\n",
       "  b'dog',\n",
       "  b'frog',\n",
       "  b'horse',\n",
       "  b'ship',\n",
       "  b'truck'],\n",
       " b'num_cases_per_batch': 10000,\n",
       " b'num_vis': 3072}"
      ]
     },
     "execution_count": 8,
     "metadata": {
      "tags": []
     },
     "output_type": "execute_result"
    }
   ],
   "source": [
    "batch_meta"
   ]
  },
  {
   "cell_type": "code",
   "execution_count": 0,
   "metadata": {
    "colab": {
     "autoexec": {
      "startup": false,
      "wait_interval": 0
     }
    },
    "colab_type": "code",
    "id": "qVSwi862vQZe"
   },
   "outputs": [],
   "source": [
    "# the shape of the images is stored in row major\n",
    "# that's why we need to transpose it according\n",
    "# to our channels\n",
    "\n",
    "X = data_batch1[b\"data\"].reshape(10000, 3, 32, 32).transpose(0, 2, 3, 1).astype(\"uint8\")"
   ]
  },
  {
   "cell_type": "code",
   "execution_count": 10,
   "metadata": {
    "colab": {
     "autoexec": {
      "startup": false,
      "wait_interval": 0
     },
     "base_uri": "https://localhost:8080/",
     "height": 283,
     "output_extras": [
      {
       "item_id": 1
      },
      {
       "item_id": 2
      }
     ]
    },
    "colab_type": "code",
    "executionInfo": {
     "elapsed": 885,
     "status": "ok",
     "timestamp": 1521001376749,
     "user": {
      "displayName": "Mayur Kulkarni",
      "photoUrl": "https://lh3.googleusercontent.com/a/default-user=s128",
      "userId": "116301151646646358552"
     },
     "user_tz": -330
    },
    "id": "LxIlXkJkvQZv",
    "outputId": "3d616d9d-4573-4509-f4f4-7b83d09e594e"
   },
   "outputs": [
    {
     "data": {
      "text/plain": [
       "(32, 32, 3)"
      ]
     },
     "execution_count": 10,
     "metadata": {
      "tags": []
     },
     "output_type": "execute_result"
    },
    {
     "data": {
      "image/png": "[encoded data removed]",
      "text/plain": [
       "<matplotlib.figure.Figure at 0x7f9b4c7732e8>"
      ]
     },
     "metadata": {
      "tags": []
     },
     "output_type": "display_data"
    }
   ],
   "source": [
    "# Show random image\n",
    "\n",
    "plt.imshow(X[1])\n",
    "X[1].shape"
   ]
  },
  {
   "cell_type": "code",
   "execution_count": 0,
   "metadata": {
    "colab": {
     "autoexec": {
      "startup": false,
      "wait_interval": 0
     }
    },
    "colab_type": "code",
    "id": "DJrZ0e4uvQaK"
   },
   "outputs": [],
   "source": [
    "class CIFARSetup():\n",
    "    def __init__(self):\n",
    "        self.training_images = None\n",
    "        self.training_labels = None\n",
    "        self.testing_images = None\n",
    "        self.testing_labels = None\n",
    "        self.train_batches = [data_batch1, data_batch2, data_batch3,\n",
    "                        data_batch4, data_batch5]\n",
    "        self.test_batch = test_batch\n",
    "        self.training_size = 0\n",
    "        self.yield_counter = 0\n",
    "        self.consolidate()\n",
    "        \n",
    "    def one_hot_encode(self, inp, columns=10):\n",
    "        rows = len(inp)\n",
    "        one_hot = np.zeros((rows, columns))\n",
    "        one_hot[range(rows), inp] = 1\n",
    "        return one_hot\n",
    "    \n",
    "    def consolidate(self):\n",
    "        # consolidate all the images in rows\n",
    "        self.training_images = np.vstack((d[b\"data\"] \n",
    "                                          for d in self.train_batches))\n",
    "        train_length = len(self.training_images)\n",
    "        self.training_size = train_length\n",
    "        # Reshape and normalize\n",
    "        self.training_images = self.training_images \\\n",
    "                                   .reshape(train_length, 3, 32, 32) \\\n",
    "                                   .transpose(0, 2, 3, 1) / 255\n",
    "        \n",
    "        # consolidate all image labels in column (horizontally)\n",
    "        labels_in_column = np.hstack((d[b\"labels\"] \n",
    "                                        for d in self.train_batches))\n",
    "        \n",
    "        # one hot encode them\n",
    "        self.training_labels = self.one_hot_encode(labels_in_column)\n",
    "        \n",
    "        # Testing\n",
    "        # consolidate all the images in rows\n",
    "        self.testing_images = self.test_batch[b\"data\"]\n",
    "        test_length = len(self.testing_images)\n",
    "        \n",
    "        # Reshape and normalize\n",
    "        self.testing_images = self.testing_images \\\n",
    "                                   .reshape(test_length, 3, 32, 32) \\\n",
    "                                   .transpose(0, 2, 3, 1) / 255\n",
    "        self.testing_images = self.testing_images.reshape(test_length,\n",
    "                                                         32, 32, 3)\n",
    "        # consolidate all image labels in column (horizontally)\n",
    "        labels_in_column = self.test_batch[b\"labels\"]\n",
    "        \n",
    "        # one hot encode them\n",
    "        self.testing_labels = self.one_hot_encode(labels_in_column)\n",
    "    \n",
    "    def next_batch(self, batch_size):\n",
    "        # we need to reshape it to (32, 32, 3) since that'll\n",
    "        # be the format for conv2d\n",
    "        batch_x = self.training_images[self.yield_counter: \n",
    "                                       self.yield_counter + batch_size] \\\n",
    "                      .reshape(batch_size, 32, 32, 3)\n",
    "        batch_y = self.training_labels[self.yield_counter: \n",
    "                                       self.yield_counter + batch_size]\n",
    "        self.yield_counter = (self.yield_counter + batch_size) % self.training_size\n",
    "        return batch_x, batch_y"
   ]
  },
  {
   "cell_type": "code",
   "execution_count": 0,
   "metadata": {
    "colab": {
     "autoexec": {
      "startup": false,
      "wait_interval": 0
     }
    },
    "colab_type": "code",
    "id": "Rx6U8cDIvQah"
   },
   "outputs": [],
   "source": [
    "class ConvolutionalNeuralNetwork:\n",
    "    def __init__(self):\n",
    "        \"\"\"\n",
    "        Parameters\n",
    "        ----------\n",
    "        X : Input tensor with dimensions: \n",
    "            [batch, height, width, channels]\n",
    "        \"\"\"\n",
    "        self.X = tf.placeholder(tf.float32, \n",
    "                                shape=[None, 32, 32, 3])\n",
    "        self.y = tf.placeholder(tf.float32, shape=[None, 10])\n",
    "        self.dropout_prob = tf.placeholder(tf.float32)\n",
    "        self.cifar_setup = CIFARSetup()\n",
    "    \n",
    "    def init_weights_and_bias(self, weights_shape, bias_shape):\n",
    "        \"\"\" Randomly initializes biases and weights\n",
    "        \n",
    "        Parameters\n",
    "        ----------\n",
    "        weights_shape : shape of the weights Tensor.\n",
    "        \n",
    "        bias_shape : shape of the bias Tensor.\n",
    "        \"\"\"\n",
    "        rand_dist = tf.truncated_normal(weights_shape, stddev=0.1)\n",
    "        W = tf.Variable(rand_dist)\n",
    "        consts = tf.constant(0.1, shape=bias_shape)\n",
    "        b = tf.Variable(consts)\n",
    "        return W, b\n",
    "        \n",
    "    def conv2d(self, X, kernel):\n",
    "        \"\"\"Performs 2D convolution\n",
    "        \n",
    "        Parameters\n",
    "        ----------\n",
    "        X : Input tensor with dimensions: \n",
    "            [batch, height, width, channels]\n",
    "            \n",
    "        kernel : Kernel tensor with dimensions:\n",
    "            [filter height, filter width, channels in, \n",
    "                channels out]\n",
    "        \"\"\"\n",
    "        # strides indicate the step of CNN to move in \n",
    "        # either direction or the number of steps to \n",
    "        # take in every dimension\n",
    "        strides = [1, 1, 1, 1]\n",
    "        return tf.nn.conv2d(X, kernel, strides, padding=\"SAME\")\n",
    "    \n",
    "    def max_pooling(self, X):\n",
    "        \"\"\"Performs 2x2 Max Pooling\n",
    "        \n",
    "        Parameters\n",
    "        ----------\n",
    "        X : Input tensor with dimensions: \n",
    "            [batch, height, width, channels]\n",
    "        \"\"\"\n",
    "        # ksize is the size of the window for \n",
    "        # each dimension of the inpuy since we are \n",
    "        # performing 2x2 pooling and our dimensions \n",
    "        # are [batch, height, width, channels] we\n",
    "        # need 2 for height and width\n",
    "        ksize = [1, 2, 2, 1]\n",
    "        \n",
    "        # same holds for strides, the only \n",
    "        # difference is strides is the step. Since we are\n",
    "        # taking 2x2 pooling we need to increment our\n",
    "        # step by 2 after every max pooling step.\n",
    "        strides = [1, 2, 2, 1]\n",
    "        return tf.nn.max_pool(X, ksize=ksize, strides=strides,\n",
    "                              padding=\"SAME\")\n",
    "        \n",
    "    def convolution_layer(self, X, shape):\n",
    "        \"\"\"Creates a Convolutional Layer\n",
    "        \n",
    "        Parameters\n",
    "        ----------\n",
    "        X : Input tensor with dimensions: \n",
    "            [batch, height, width, channels]\n",
    "        \n",
    "        shape : Shape of the Kernel with dimensions:\n",
    "            [filter height, filter width, channels in, \n",
    "                channels out]\n",
    "        \"\"\"\n",
    "        W, b = self.init_weights_and_bias(weights_shape=shape,\n",
    "                                          bias_shape=[shape[3]])\n",
    "        return tf.nn.relu(self.conv2d(X, W) + b)\n",
    "    \n",
    "    def dense_layer(self, input_layer, size):\n",
    "        \"\"\" Creates a Fully Connected Layer\n",
    "        \n",
    "        Parameters\n",
    "        ----------\n",
    "        input_layer : Tensor of the previous layer.\n",
    "        \n",
    "        size : output size of the fully connected layer. \n",
    "        \n",
    "        Returns\n",
    "        -------\n",
    "        Tensor output of the fully connected layer. \n",
    "        \"\"\"\n",
    "        input_layer_size = int(input_layer.get_shape()[1])\n",
    "        W, b = self.init_weights_and_bias(weights_shape=\n",
    "                                          [input_layer_size, size],\n",
    "                                          bias_shape=[size])\n",
    "        return tf.matmul(input_layer, W) + b\n",
    "        \n",
    "    def forward_pass(self):\n",
    "        \"\"\" Performs a forward pass and outputs probabilities \"\"\"\n",
    "        # Reshape the image (None, 784) back to (-1, 28, 28, 1)\n",
    "        X_image = self.X\n",
    "        \n",
    "        ################### Layer 1 (CNN) ###########################\n",
    "        \n",
    "        cnn_layer_1 = self.convolution_layer(X_image, \n",
    "                                             shape=[4, 4, 3, 32])\n",
    "        cnn_layer_1_pooled = self.max_pooling(cnn_layer_1)\n",
    "        \n",
    "        ################### Layer 2 (CNN) ###########################\n",
    "        \n",
    "        cnn_layer_2 = self.convolution_layer(cnn_layer_1_pooled, \n",
    "                                             shape=[4, 4, 32, 64])\n",
    "        cnn_layer_2_pooled = self.max_pooling(cnn_layer_2)\n",
    "        \n",
    "        ################### Layer 3 (Dense) ##########################\n",
    "        \n",
    "        cnn_layer_2_flat = tf.reshape(cnn_layer_2_pooled, (-1, 8*8*64))\n",
    "        dense_layer_1 = tf.nn.relu(self.dense_layer(cnn_layer_2_flat, 1024))\n",
    "        \n",
    "        ######################## Dropout #############################\n",
    "        \n",
    "        dense_layer_1_drop = tf.nn.dropout(dense_layer_1, \n",
    "                                           keep_prob=self.dropout_prob)\n",
    "        \n",
    "        ######################## Predict #############################\n",
    "        \n",
    "        return self.dense_layer(dense_layer_1_drop, 10)\n",
    "    \n",
    "    def train(self):\n",
    "        \"\"\" Trains the CNN using AdamOptimizer \"\"\"\n",
    "        y_pred = self.forward_pass()\n",
    "        cross_entropy_loss = tf.reduce_mean(\n",
    "            tf.nn.softmax_cross_entropy_with_logits(labels=self.y,\n",
    "                                                    logits=y_pred))\n",
    "        optimizer = tf.train.AdamOptimizer(learning_rate=0.001)\n",
    "        train_cnn = optimizer.minimize(cross_entropy_loss)\n",
    "        init = tf.global_variables_initializer()\n",
    "        steps = 2001\n",
    "        \n",
    "        with tf.Session() as sess:\n",
    "            sess.run(init)\n",
    "            for step in range(steps):\n",
    "                start_time = time()\n",
    "                X_batch, y_batch = self.cifar_setup.next_batch(50)\n",
    "                sess.run(train_cnn, feed_dict={self.X: X_batch, self.y: y_batch,\n",
    "                                               self.dropout_prob: 0.5})\n",
    "                matches = tf.equal(tf.argmax(y_pred, 1), tf.argmax(self.y, 1))\n",
    "                accuracy = tf.reduce_mean(tf.cast(matches, tf.float32))\n",
    "                result = sess.run(accuracy, \n",
    "                                  feed_dict={self.X: self.cifar_setup.testing_images, \n",
    "                                             self.y: self.cifar_setup.testing_labels,\n",
    "                                             self.dropout_prob: 1.0})\n",
    "                if step % 100 == 0:\n",
    "                    print(\"Step: {0} Accuracy: {1:.2f}% Time: {2:.2f} secs/step\"\n",
    "                          .format(step, result * 100, time() - start_time))"
   ]
  },
  {
   "cell_type": "code",
   "execution_count": 14,
   "metadata": {
    "colab": {
     "autoexec": {
      "startup": false,
      "wait_interval": 0
     },
     "base_uri": "https://localhost:8080/",
     "height": 382,
     "output_extras": [
      {
       "item_id": 21
      }
     ]
    },
    "colab_type": "code",
    "executionInfo": {
     "elapsed": 1424860,
     "status": "ok",
     "timestamp": 1521002836357,
     "user": {
      "displayName": "Mayur Kulkarni",
      "photoUrl": "https://lh3.googleusercontent.com/a/default-user=s128",
      "userId": "116301151646646358552"
     },
     "user_tz": -330
    },
    "id": "LQWnZ-DsvQbF",
    "outputId": "b9dd32a0-3fff-4cb7-a9a9-82493f9c275a"
   },
   "outputs": [
    {
     "name": "stdout",
     "output_type": "stream",
     "text": [
      "Step: 0 Accuracy: 10.05% Time: 0.69 secs/step\n",
      "Step: 100 Accuracy: 33.49% Time: 0.54 secs/step\n",
      "Step: 200 Accuracy: 40.57% Time: 0.55 secs/step\n",
      "Step: 300 Accuracy: 44.67% Time: 0.64 secs/step\n",
      "Step: 400 Accuracy: 45.77% Time: 0.58 secs/step\n",
      "Step: 500 Accuracy: 49.31% Time: 0.61 secs/step\n",
      "Step: 600 Accuracy: 51.97% Time: 0.63 secs/step\n",
      "Step: 700 Accuracy: 52.69% Time: 0.65 secs/step\n",
      "Step: 800 Accuracy: 53.75% Time: 0.67 secs/step\n",
      "Step: 900 Accuracy: 54.67% Time: 0.68 secs/step\n",
      "Step: 1000 Accuracy: 57.66% Time: 0.71 secs/step\n",
      "Step: 1100 Accuracy: 55.69% Time: 0.72 secs/step\n",
      "Step: 1200 Accuracy: 56.11% Time: 0.74 secs/step\n",
      "Step: 1300 Accuracy: 58.17% Time: 0.77 secs/step\n",
      "Step: 1400 Accuracy: 59.64% Time: 0.78 secs/step\n",
      "Step: 1500 Accuracy: 59.46% Time: 0.81 secs/step\n",
      "Step: 1600 Accuracy: 60.85% Time: 0.83 secs/step\n",
      "Step: 1700 Accuracy: 61.44% Time: 0.87 secs/step\n",
      "Step: 1800 Accuracy: 59.50% Time: 0.93 secs/step\n",
      "Step: 1900 Accuracy: 62.27% Time: 0.92 secs/step\n",
      "Step: 2000 Accuracy: 64.08% Time: 0.93 secs/step\n"
     ]
    }
   ],
   "source": [
    "ConvolutionalNeuralNetwork().train()\n",
    "# Warning: This will take an entire day to \n",
    "# train if not on a GPU"
   ]
  },
  {
   "cell_type": "code",
   "execution_count": 0,
   "metadata": {
    "colab": {
     "autoexec": {
      "startup": false,
      "wait_interval": 0
     }
    },
    "colab_type": "code",
    "id": "xlraO91NvQbq"
   },
   "outputs": [],
   "source": []
  }
 ],
 "metadata": {
  "accelerator": "GPU",
  "colab": {
   "default_view": {},
   "name": "9. Convolutional Neural Networks (CIFAR-10).ipynb",
   "provenance": [],
   "version": "0.3.2",
   "views": {}
  },
  "kernelspec": {
   "display_name": "Python 3",
   "language": "python",
   "name": "python3"
  },
  "language_info": {
   "codemirror_mode": {
    "name": "ipython",
    "version": 3
   },
   "file_extension": ".py",
   "mimetype": "text/x-python",
   "name": "python",
   "nbconvert_exporter": "python",
   "pygments_lexer": "ipython3",
   "version": "3.6.3"
  }
 },
 "nbformat": 4,
 "nbformat_minor": 1
}
