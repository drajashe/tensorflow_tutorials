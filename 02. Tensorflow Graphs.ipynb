{
 "cells": [
  {
   "cell_type": "markdown",
   "metadata": {},
   "source": [
    "## Tensorflow Graph\n",
    "\n",
    "A graph is a computational graph that specifies operations. It does not compute anything, or allocate any resources. It simply stores the operation you want to execute.\n",
    "\n",
    "Tensorflow will create a default graph for you, you may also create more, set them as default and execute operations. \n",
    "\n",
    "## Tensorflow Session\n",
    "\n",
    "Session is what actually executes the operations inside a graph. Using Session you can execute a Graph, or a part of a Graph, allocate resources, and save intermediate results. "
   ]
  },
  {
   "cell_type": "markdown",
   "metadata": {},
   "source": [
    "Let's create the following graph\n",
    "```\n",
    "A ----\n",
    "       \\\n",
    "        -----N (A + B)\n",
    "       /\n",
    "B -----\n",
    "```"
   ]
  },
  {
   "cell_type": "code",
   "execution_count": 3,
   "metadata": {},
   "outputs": [
    {
     "name": "stdout",
     "output_type": "stream",
     "text": [
      "Tensor(\"add_2:0\", shape=(), dtype=int32)\n",
      "30\n"
     ]
    }
   ],
   "source": [
    "import tensorflow as tf\n",
    "\n",
    "a = tf.constant(10)\n",
    "b = tf.constant(20)\n",
    "n = a + b\n",
    "\n",
    "# n is just an operation which \n",
    "# isn't computed yet\n",
    "print(n)\n",
    "\n",
    "with tf.Session() as sess:\n",
    "    # session will compute the\n",
    "    # operation and return\n",
    "    # the result\n",
    "    print(sess.run(n))"
   ]
  },
  {
   "cell_type": "code",
   "execution_count": 5,
   "metadata": {},
   "outputs": [
    {
     "name": "stdout",
     "output_type": "stream",
     "text": [
      "<tensorflow.python.framework.ops.Graph object at 0x7f1674260dd8>\n"
     ]
    }
   ],
   "source": [
    "print(tf.get_default_graph())\n",
    "# this returns the default graph"
   ]
  },
  {
   "cell_type": "markdown",
   "metadata": {},
   "source": [
    "## Creating a new Graph\n",
    "\n"
   ]
  },
  {
   "cell_type": "code",
   "execution_count": 8,
   "metadata": {},
   "outputs": [
    {
     "name": "stdout",
     "output_type": "stream",
     "text": [
      "110\n"
     ]
    }
   ],
   "source": [
    "graph_new = tf.Graph()\n",
    "\n",
    "with tf.Session(graph=graph_new) as sess:\n",
    "    a = tf.constant(10)\n",
    "    n = a + 100\n",
    "    # this current Graph doesn't\n",
    "    # know about the variables \n",
    "    # defined elsewhere\n",
    "    print(sess.run(n))"
   ]
  },
  {
   "cell_type": "markdown",
   "metadata": {},
   "source": [
    "### Setting new Graph as default Graph"
   ]
  },
  {
   "cell_type": "code",
   "execution_count": 10,
   "metadata": {},
   "outputs": [
    {
     "name": "stdout",
     "output_type": "stream",
     "text": [
      "True\n"
     ]
    }
   ],
   "source": [
    "with graph_new.as_default():\n",
    "    print(graph_new is tf.get_default_graph())\n",
    "    # Execute operations here"
   ]
  },
  {
   "cell_type": "code",
   "execution_count": null,
   "metadata": {},
   "outputs": [],
   "source": []
  }
 ],
 "metadata": {
  "kernelspec": {
   "display_name": "Python 3",
   "language": "python",
   "name": "python3"
  },
  "language_info": {
   "codemirror_mode": {
    "name": "ipython",
    "version": 3
   },
   "file_extension": ".py",
   "mimetype": "text/x-python",
   "name": "python",
   "nbconvert_exporter": "python",
   "pygments_lexer": "ipython3",
   "version": "3.6.3"
  }
 },
 "nbformat": 4,
 "nbformat_minor": 2
}
