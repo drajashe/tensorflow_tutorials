{
 "cells": [
  {
   "cell_type": "code",
   "execution_count": 16,
   "metadata": {},
   "outputs": [],
   "source": [
    "import numpy as np\n",
    "import pandas as pd\n",
    "import tensorflow as tf\n",
    "import matplotlib.pyplot as plt\n",
    "from sklearn.datasets import make_regression\n",
    "import matplotlib.pyplot as plt\n",
    "%matplotlib inline"
   ]
  },
  {
   "cell_type": "code",
   "execution_count": 17,
   "metadata": {},
   "outputs": [
    {
     "data": {
      "text/html": [
       "<div>\n",
       "<style>\n",
       "    .dataframe thead tr:only-child th {\n",
       "        text-align: right;\n",
       "    }\n",
       "\n",
       "    .dataframe thead th {\n",
       "        text-align: left;\n",
       "    }\n",
       "\n",
       "    .dataframe tbody tr th {\n",
       "        vertical-align: top;\n",
       "    }\n",
       "</style>\n",
       "<table border=\"1\" class=\"dataframe\">\n",
       "  <thead>\n",
       "    <tr style=\"text-align: right;\">\n",
       "      <th></th>\n",
       "      <th>Number_pregnant</th>\n",
       "      <th>Glucose_concentration</th>\n",
       "      <th>Blood_pressure</th>\n",
       "      <th>Triceps</th>\n",
       "      <th>Insulin</th>\n",
       "      <th>BMI</th>\n",
       "      <th>Pedigree</th>\n",
       "      <th>Age</th>\n",
       "      <th>Class</th>\n",
       "      <th>Group</th>\n",
       "    </tr>\n",
       "  </thead>\n",
       "  <tbody>\n",
       "    <tr>\n",
       "      <th>0</th>\n",
       "      <td>6</td>\n",
       "      <td>0.743719</td>\n",
       "      <td>0.590164</td>\n",
       "      <td>0.353535</td>\n",
       "      <td>0.000000</td>\n",
       "      <td>0.500745</td>\n",
       "      <td>0.234415</td>\n",
       "      <td>50</td>\n",
       "      <td>1</td>\n",
       "      <td>B</td>\n",
       "    </tr>\n",
       "    <tr>\n",
       "      <th>1</th>\n",
       "      <td>1</td>\n",
       "      <td>0.427136</td>\n",
       "      <td>0.540984</td>\n",
       "      <td>0.292929</td>\n",
       "      <td>0.000000</td>\n",
       "      <td>0.396423</td>\n",
       "      <td>0.116567</td>\n",
       "      <td>31</td>\n",
       "      <td>0</td>\n",
       "      <td>C</td>\n",
       "    </tr>\n",
       "    <tr>\n",
       "      <th>2</th>\n",
       "      <td>8</td>\n",
       "      <td>0.919598</td>\n",
       "      <td>0.524590</td>\n",
       "      <td>0.000000</td>\n",
       "      <td>0.000000</td>\n",
       "      <td>0.347243</td>\n",
       "      <td>0.253629</td>\n",
       "      <td>32</td>\n",
       "      <td>1</td>\n",
       "      <td>B</td>\n",
       "    </tr>\n",
       "    <tr>\n",
       "      <th>3</th>\n",
       "      <td>1</td>\n",
       "      <td>0.447236</td>\n",
       "      <td>0.540984</td>\n",
       "      <td>0.232323</td>\n",
       "      <td>0.111111</td>\n",
       "      <td>0.418778</td>\n",
       "      <td>0.038002</td>\n",
       "      <td>21</td>\n",
       "      <td>0</td>\n",
       "      <td>B</td>\n",
       "    </tr>\n",
       "    <tr>\n",
       "      <th>4</th>\n",
       "      <td>0</td>\n",
       "      <td>0.688442</td>\n",
       "      <td>0.327869</td>\n",
       "      <td>0.353535</td>\n",
       "      <td>0.198582</td>\n",
       "      <td>0.642325</td>\n",
       "      <td>0.943638</td>\n",
       "      <td>33</td>\n",
       "      <td>1</td>\n",
       "      <td>C</td>\n",
       "    </tr>\n",
       "  </tbody>\n",
       "</table>\n",
       "</div>"
      ],
      "text/plain": [
       "   Number_pregnant  Glucose_concentration  Blood_pressure   Triceps   Insulin  \\\n",
       "0                6               0.743719        0.590164  0.353535  0.000000   \n",
       "1                1               0.427136        0.540984  0.292929  0.000000   \n",
       "2                8               0.919598        0.524590  0.000000  0.000000   \n",
       "3                1               0.447236        0.540984  0.232323  0.111111   \n",
       "4                0               0.688442        0.327869  0.353535  0.198582   \n",
       "\n",
       "        BMI  Pedigree  Age  Class Group  \n",
       "0  0.500745  0.234415   50      1     B  \n",
       "1  0.396423  0.116567   31      0     C  \n",
       "2  0.347243  0.253629   32      1     B  \n",
       "3  0.418778  0.038002   21      0     B  \n",
       "4  0.642325  0.943638   33      1     C  "
      ]
     },
     "execution_count": 17,
     "metadata": {},
     "output_type": "execute_result"
    }
   ],
   "source": [
    "diabates = pd.read_csv(\"datasets/pima-indians-diabetes.csv\")\n",
    "diabates.head()"
   ]
  },
  {
   "cell_type": "markdown",
   "metadata": {},
   "source": [
    "### 1. Normalize numerical columns\n"
   ]
  },
  {
   "cell_type": "code",
   "execution_count": 18,
   "metadata": {},
   "outputs": [
    {
     "data": {
      "text/plain": [
       "Index(['Number_pregnant', 'Glucose_concentration', 'Blood_pressure', 'Triceps',\n",
       "       'Insulin', 'BMI', 'Pedigree', 'Age', 'Class', 'Group'],\n",
       "      dtype='object')"
      ]
     },
     "execution_count": 18,
     "metadata": {},
     "output_type": "execute_result"
    }
   ],
   "source": [
    "diabates.columns"
   ]
  },
  {
   "cell_type": "code",
   "execution_count": 19,
   "metadata": {},
   "outputs": [],
   "source": [
    "numerical_cols = ['Number_pregnant', 'Glucose_concentration', 'Blood_pressure', 'Triceps',\n",
    "                  'Insulin', 'BMI', 'Pedigree']\n",
    "diabates[numerical_cols] = diabates[numerical_cols].apply(lambda x: (x - x.min()) / (x.max() - x.min()))"
   ]
  },
  {
   "cell_type": "code",
   "execution_count": 20,
   "metadata": {},
   "outputs": [
    {
     "data": {
      "text/html": [
       "<div>\n",
       "<style>\n",
       "    .dataframe thead tr:only-child th {\n",
       "        text-align: right;\n",
       "    }\n",
       "\n",
       "    .dataframe thead th {\n",
       "        text-align: left;\n",
       "    }\n",
       "\n",
       "    .dataframe tbody tr th {\n",
       "        vertical-align: top;\n",
       "    }\n",
       "</style>\n",
       "<table border=\"1\" class=\"dataframe\">\n",
       "  <thead>\n",
       "    <tr style=\"text-align: right;\">\n",
       "      <th></th>\n",
       "      <th>Number_pregnant</th>\n",
       "      <th>Glucose_concentration</th>\n",
       "      <th>Blood_pressure</th>\n",
       "      <th>Triceps</th>\n",
       "      <th>Insulin</th>\n",
       "      <th>BMI</th>\n",
       "      <th>Pedigree</th>\n",
       "    </tr>\n",
       "  </thead>\n",
       "  <tbody>\n",
       "    <tr>\n",
       "      <th>0</th>\n",
       "      <td>0.352941</td>\n",
       "      <td>0.743719</td>\n",
       "      <td>0.590164</td>\n",
       "      <td>0.353535</td>\n",
       "      <td>0.000000</td>\n",
       "      <td>0.500745</td>\n",
       "      <td>0.234415</td>\n",
       "    </tr>\n",
       "    <tr>\n",
       "      <th>1</th>\n",
       "      <td>0.058824</td>\n",
       "      <td>0.427136</td>\n",
       "      <td>0.540984</td>\n",
       "      <td>0.292929</td>\n",
       "      <td>0.000000</td>\n",
       "      <td>0.396423</td>\n",
       "      <td>0.116567</td>\n",
       "    </tr>\n",
       "    <tr>\n",
       "      <th>2</th>\n",
       "      <td>0.470588</td>\n",
       "      <td>0.919598</td>\n",
       "      <td>0.524590</td>\n",
       "      <td>0.000000</td>\n",
       "      <td>0.000000</td>\n",
       "      <td>0.347243</td>\n",
       "      <td>0.253629</td>\n",
       "    </tr>\n",
       "    <tr>\n",
       "      <th>3</th>\n",
       "      <td>0.058824</td>\n",
       "      <td>0.447236</td>\n",
       "      <td>0.540984</td>\n",
       "      <td>0.232323</td>\n",
       "      <td>0.111111</td>\n",
       "      <td>0.418778</td>\n",
       "      <td>0.038002</td>\n",
       "    </tr>\n",
       "    <tr>\n",
       "      <th>4</th>\n",
       "      <td>0.000000</td>\n",
       "      <td>0.688442</td>\n",
       "      <td>0.327869</td>\n",
       "      <td>0.353535</td>\n",
       "      <td>0.198582</td>\n",
       "      <td>0.642325</td>\n",
       "      <td>0.943638</td>\n",
       "    </tr>\n",
       "  </tbody>\n",
       "</table>\n",
       "</div>"
      ],
      "text/plain": [
       "   Number_pregnant  Glucose_concentration  Blood_pressure   Triceps   Insulin  \\\n",
       "0         0.352941               0.743719        0.590164  0.353535  0.000000   \n",
       "1         0.058824               0.427136        0.540984  0.292929  0.000000   \n",
       "2         0.470588               0.919598        0.524590  0.000000  0.000000   \n",
       "3         0.058824               0.447236        0.540984  0.232323  0.111111   \n",
       "4         0.000000               0.688442        0.327869  0.353535  0.198582   \n",
       "\n",
       "        BMI  Pedigree  \n",
       "0  0.500745  0.234415  \n",
       "1  0.396423  0.116567  \n",
       "2  0.347243  0.253629  \n",
       "3  0.418778  0.038002  \n",
       "4  0.642325  0.943638  "
      ]
     },
     "execution_count": 20,
     "metadata": {},
     "output_type": "execute_result"
    }
   ],
   "source": [
    "# observe all columns are normalized\n",
    "diabates[numerical_cols].head()"
   ]
  },
  {
   "cell_type": "markdown",
   "metadata": {},
   "source": [
    "### 2. Define list of feature columns"
   ]
  },
  {
   "cell_type": "code",
   "execution_count": 21,
   "metadata": {},
   "outputs": [],
   "source": [
    "num_preg = tf.feature_column.numeric_column('Number_pregnant')\n",
    "gluc_conc = tf.feature_column.numeric_column('Glucose_concentration')\n",
    "bp = tf.feature_column.numeric_column('Blood_pressure')\n",
    "triceps = tf.feature_column.numeric_column('Triceps')\n",
    "insulin = tf.feature_column.numeric_column('Insulin')\n",
    "bmi = tf.feature_column.numeric_column('BMI')\n",
    "pedigree = tf.feature_column.numeric_column('Pedigree')\n",
    "age = tf.feature_column.numeric_column('Age')"
   ]
  },
  {
   "cell_type": "markdown",
   "metadata": {},
   "source": [
    "### Dealing with categorical variables\n",
    "There are 2 methods used to deal with categorical variables.\n",
    "1. Using Hash Bucket: This is similar to using scikit learn's FeatureHasher. Use this when you don't know the exact values of the features that will occur. Input is just the number of buckets to hash on. This can be lesser than the number of features. \n",
    "\n",
    "2. Using Vocabulary List: This is like using scikit learn's DictVectorizer. Use this when you know the features that are going to be included like \"A\", \"B\", \"C\", \"D\"."
   ]
  },
  {
   "cell_type": "code",
   "execution_count": 22,
   "metadata": {},
   "outputs": [],
   "source": [
    "# Using vocabulary list. \n",
    "assigned_group = tf.feature_column.categorical_column_with_vocabulary_list(\"Group\", [\"A\", \"B\", \"C\", \"D\"])"
   ]
  },
  {
   "cell_type": "code",
   "execution_count": 23,
   "metadata": {},
   "outputs": [
    {
     "data": {
      "text/plain": [
       "<matplotlib.axes._subplots.AxesSubplot at 0x7f4c53e5fe48>"
      ]
     },
     "execution_count": 23,
     "metadata": {},
     "output_type": "execute_result"
    },
    {
     "data": {
      "image/png": "[encoded data removed]",
      "text/plain": [
       "<matplotlib.figure.Figure at 0x7f4c53e5f780>"
      ]
     },
     "metadata": {},
     "output_type": "display_data"
    }
   ],
   "source": [
    "# Histogram of ages\n",
    "diabates[\"Age\"].hist(bins=10)"
   ]
  },
  {
   "cell_type": "code",
   "execution_count": 24,
   "metadata": {},
   "outputs": [],
   "source": [
    "age_buckets = tf.feature_column.bucketized_column(age, boundaries=[20, 30, 40, 50, 60, 70, 80])\n",
    "feat_cols = [num_preg, gluc_conc, bp, triceps, insulin, bmi, pedigree, age, age_buckets]\n",
    "y = diabates[\"Class\"]\n",
    "X = diabates.drop(\"Class\", axis=1)"
   ]
  },
  {
   "cell_type": "markdown",
   "metadata": {},
   "source": [
    "### Prepare dataset"
   ]
  },
  {
   "cell_type": "code",
   "execution_count": 25,
   "metadata": {},
   "outputs": [],
   "source": [
    "from sklearn.model_selection import train_test_split\n",
    "\n",
    "X_train, X_test, y_train, y_test = train_test_split(X, y, test_size=0.3, stratify=y)"
   ]
  },
  {
   "cell_type": "code",
   "execution_count": 26,
   "metadata": {},
   "outputs": [],
   "source": [
    "train_function = tf.estimator.inputs.pandas_input_fn(X, y, batch_size=8, shuffle=False, num_epochs=1000)\n",
    "\n",
    "test_function = tf.estimator.inputs.pandas_input_fn(X_test, y_test, batch_size=8, shuffle=False)"
   ]
  },
  {
   "cell_type": "markdown",
   "metadata": {},
   "source": [
    "### 3. Prepare Estimator"
   ]
  },
  {
   "cell_type": "code",
   "execution_count": 27,
   "metadata": {},
   "outputs": [
    {
     "name": "stdout",
     "output_type": "stream",
     "text": [
      "INFO:tensorflow:Using default config.\n",
      "WARNING:tensorflow:Using temporary folder as model directory: /tmp/tmpb20wcwlo\n",
      "INFO:tensorflow:Using config: {'_model_dir': '/tmp/tmpb20wcwlo', '_tf_random_seed': None, '_save_summary_steps': 100, '_save_checkpoints_steps': None, '_save_checkpoints_secs': 600, '_session_config': None, '_keep_checkpoint_max': 5, '_keep_checkpoint_every_n_hours': 10000, '_log_step_count_steps': 100, '_service': None, '_cluster_spec': <tensorflow.python.training.server_lib.ClusterSpec object at 0x7f4c534f1cf8>, '_task_type': 'worker', '_task_id': 0, '_global_id_in_cluster': 0, '_master': '', '_evaluation_master': '', '_is_chief': True, '_num_ps_replicas': 0, '_num_worker_replicas': 1}\n"
     ]
    }
   ],
   "source": [
    "estimator = tf.estimator.LinearClassifier(feature_columns=feat_cols, n_classes=2)"
   ]
  },
  {
   "cell_type": "code",
   "execution_count": 28,
   "metadata": {},
   "outputs": [
    {
     "name": "stdout",
     "output_type": "stream",
     "text": [
      "INFO:tensorflow:Calling model_fn.\n",
      "INFO:tensorflow:Done calling model_fn.\n",
      "INFO:tensorflow:Create CheckpointSaverHook.\n",
      "INFO:tensorflow:Graph was finalized.\n",
      "INFO:tensorflow:Running local_init_op.\n",
      "INFO:tensorflow:Done running local_init_op.\n",
      "INFO:tensorflow:Saving checkpoints for 1 into /tmp/tmpb20wcwlo/model.ckpt.\n",
      "INFO:tensorflow:loss = 5.5451775, step = 1\n",
      "INFO:tensorflow:global_step/sec: 109.615\n",
      "INFO:tensorflow:loss = 5.1932898, step = 101 (0.916 sec)\n",
      "INFO:tensorflow:global_step/sec: 146.904\n",
      "INFO:tensorflow:loss = 5.3029995, step = 201 (0.680 sec)\n",
      "INFO:tensorflow:global_step/sec: 149.742\n",
      "INFO:tensorflow:loss = 2.5617986, step = 301 (0.670 sec)\n",
      "INFO:tensorflow:global_step/sec: 148.075\n",
      "INFO:tensorflow:loss = 4.5560436, step = 401 (0.676 sec)\n",
      "INFO:tensorflow:global_step/sec: 153.391\n",
      "INFO:tensorflow:loss = 3.9424653, step = 501 (0.655 sec)\n",
      "INFO:tensorflow:global_step/sec: 145.7\n",
      "INFO:tensorflow:loss = 6.9965057, step = 601 (0.682 sec)\n",
      "INFO:tensorflow:global_step/sec: 151.474\n",
      "INFO:tensorflow:loss = 6.1180086, step = 701 (0.663 sec)\n",
      "INFO:tensorflow:global_step/sec: 152.176\n",
      "INFO:tensorflow:loss = 4.4505224, step = 801 (0.654 sec)\n",
      "INFO:tensorflow:global_step/sec: 100.547\n",
      "INFO:tensorflow:loss = 4.599818, step = 901 (0.994 sec)\n",
      "INFO:tensorflow:Saving checkpoints for 1000 into /tmp/tmpb20wcwlo/model.ckpt.\n",
      "INFO:tensorflow:Loss for final step: 4.8054733.\n"
     ]
    },
    {
     "data": {
      "text/plain": [
       "<tensorflow.python.estimator.canned.linear.LinearClassifier at 0x7f4c534f1f28>"
      ]
     },
     "execution_count": 28,
     "metadata": {},
     "output_type": "execute_result"
    }
   ],
   "source": [
    "estimator.train(input_fn=train_function, steps=1000)\n"
   ]
  },
  {
   "cell_type": "code",
   "execution_count": 29,
   "metadata": {},
   "outputs": [
    {
     "name": "stdout",
     "output_type": "stream",
     "text": [
      "INFO:tensorflow:Calling model_fn.\n",
      "INFO:tensorflow:Done calling model_fn.\n",
      "INFO:tensorflow:Starting evaluation at 2018-03-10-03:43:05\n",
      "INFO:tensorflow:Graph was finalized.\n",
      "INFO:tensorflow:Restoring parameters from /tmp/tmpb20wcwlo/model.ckpt-1000\n",
      "INFO:tensorflow:Running local_init_op.\n",
      "INFO:tensorflow:Done running local_init_op.\n",
      "INFO:tensorflow:Finished evaluation at 2018-03-10-03:43:07\n",
      "INFO:tensorflow:Saving dict for global step 1000: accuracy = 0.72727275, accuracy_baseline = 0.64935064, auc = 0.8148972, auc_precision_recall = 0.68888855, average_loss = 0.5373519, global_step = 1000, label/mean = 0.35064936, loss = 4.280286, prediction/mean = 0.45529935\n"
     ]
    }
   ],
   "source": [
    "res = estimator.evaluate(input_fn=test_function, steps=1000)"
   ]
  },
  {
   "cell_type": "code",
   "execution_count": 30,
   "metadata": {},
   "outputs": [
    {
     "data": {
      "text/plain": [
       "{'accuracy': 0.72727275,\n",
       " 'accuracy_baseline': 0.64935064,\n",
       " 'auc': 0.8148972,\n",
       " 'auc_precision_recall': 0.68888855,\n",
       " 'average_loss': 0.5373519,\n",
       " 'global_step': 1000,\n",
       " 'label/mean': 0.35064936,\n",
       " 'loss': 4.280286,\n",
       " 'prediction/mean': 0.45529935}"
      ]
     },
     "execution_count": 30,
     "metadata": {},
     "output_type": "execute_result"
    }
   ],
   "source": [
    "res"
   ]
  },
  {
   "cell_type": "markdown",
   "metadata": {},
   "source": [
    "### 4. Predict"
   ]
  },
  {
   "cell_type": "code",
   "execution_count": 31,
   "metadata": {},
   "outputs": [],
   "source": [
    "predictions = estimator.predict(input_fn=test_function)"
   ]
  },
  {
   "cell_type": "code",
   "execution_count": 32,
   "metadata": {},
   "outputs": [
    {
     "name": "stdout",
     "output_type": "stream",
     "text": [
      "INFO:tensorflow:Calling model_fn.\n",
      "INFO:tensorflow:Done calling model_fn.\n",
      "INFO:tensorflow:Graph was finalized.\n",
      "INFO:tensorflow:Restoring parameters from /tmp/tmpb20wcwlo/model.ckpt-1000\n",
      "INFO:tensorflow:Running local_init_op.\n",
      "INFO:tensorflow:Done running local_init_op.\n"
     ]
    },
    {
     "data": {
      "text/plain": [
       "[{'class_ids': array([1]),\n",
       "  'classes': array([b'1'], dtype=object),\n",
       "  'logistic': array([0.5464438], dtype=float32),\n",
       "  'logits': array([0.18631226], dtype=float32),\n",
       "  'probabilities': array([0.4535562, 0.5464438], dtype=float32)},\n",
       " {'class_ids': array([1]),\n",
       "  'classes': array([b'1'], dtype=object),\n",
       "  'logistic': array([0.56642777], dtype=float32),\n",
       "  'logits': array([0.26729125], dtype=float32),\n",
       "  'probabilities': array([0.4335722 , 0.56642777], dtype=float32)},\n",
       " {'class_ids': array([0]),\n",
       "  'classes': array([b'0'], dtype=object),\n",
       "  'logistic': array([0.19620767], dtype=float32),\n",
       "  'logits': array([-1.4101672], dtype=float32),\n",
       "  'probabilities': array([0.8037923 , 0.19620767], dtype=float32)},\n",
       " {'class_ids': array([0]),\n",
       "  'classes': array([b'0'], dtype=object),\n",
       "  'logistic': array([0.20084667], dtype=float32),\n",
       "  'logits': array([-1.381011], dtype=float32),\n",
       "  'probabilities': array([0.7991533 , 0.20084667], dtype=float32)},\n",
       " {'class_ids': array([0]),\n",
       "  'classes': array([b'0'], dtype=object),\n",
       "  'logistic': array([0.37437505], dtype=float32),\n",
       "  'logits': array([-0.51349306], dtype=float32),\n",
       "  'probabilities': array([0.62562495, 0.37437502], dtype=float32)}]"
      ]
     },
     "execution_count": 32,
     "metadata": {},
     "output_type": "execute_result"
    }
   ],
   "source": [
    "list(predictions)[:5]"
   ]
  },
  {
   "cell_type": "markdown",
   "metadata": {},
   "source": [
    "## Deep Neural Net Classifier"
   ]
  },
  {
   "cell_type": "code",
   "execution_count": 33,
   "metadata": {},
   "outputs": [
    {
     "name": "stdout",
     "output_type": "stream",
     "text": [
      "INFO:tensorflow:Using default config.\n",
      "WARNING:tensorflow:Using temporary folder as model directory: /tmp/tmpgbmrum6x\n",
      "INFO:tensorflow:Using config: {'_model_dir': '/tmp/tmpgbmrum6x', '_tf_random_seed': None, '_save_summary_steps': 100, '_save_checkpoints_steps': None, '_save_checkpoints_secs': 600, '_session_config': None, '_keep_checkpoint_max': 5, '_keep_checkpoint_every_n_hours': 10000, '_log_step_count_steps': 100, '_service': None, '_cluster_spec': <tensorflow.python.training.server_lib.ClusterSpec object at 0x7f4c53bf2c88>, '_task_type': 'worker', '_task_id': 0, '_global_id_in_cluster': 0, '_master': '', '_evaluation_master': '', '_is_chief': True, '_num_ps_replicas': 0, '_num_worker_replicas': 1}\n"
     ]
    }
   ],
   "source": [
    "dnn_estimator = tf.estimator.DNNClassifier(hidden_units=[30, 30, 30, 30], feature_columns=feat_cols)"
   ]
  },
  {
   "cell_type": "code",
   "execution_count": 34,
   "metadata": {},
   "outputs": [
    {
     "name": "stdout",
     "output_type": "stream",
     "text": [
      "INFO:tensorflow:Calling model_fn.\n",
      "INFO:tensorflow:Done calling model_fn.\n",
      "INFO:tensorflow:Create CheckpointSaverHook.\n",
      "INFO:tensorflow:Graph was finalized.\n",
      "INFO:tensorflow:Running local_init_op.\n",
      "INFO:tensorflow:Done running local_init_op.\n",
      "INFO:tensorflow:Saving checkpoints for 1 into /tmp/tmpgbmrum6x/model.ckpt.\n",
      "INFO:tensorflow:loss = 9.709453, step = 1\n",
      "INFO:tensorflow:global_step/sec: 113.901\n",
      "INFO:tensorflow:loss = 5.387681, step = 101 (0.880 sec)\n",
      "INFO:tensorflow:global_step/sec: 154.455\n",
      "INFO:tensorflow:loss = 5.193118, step = 201 (0.650 sec)\n",
      "INFO:tensorflow:global_step/sec: 150.255\n",
      "INFO:tensorflow:loss = 3.3515172, step = 301 (0.668 sec)\n",
      "INFO:tensorflow:global_step/sec: 151.082\n",
      "INFO:tensorflow:loss = 5.0420866, step = 401 (0.657 sec)\n",
      "INFO:tensorflow:global_step/sec: 155.852\n",
      "INFO:tensorflow:loss = 3.9946187, step = 501 (0.645 sec)\n",
      "INFO:tensorflow:global_step/sec: 144.559\n",
      "INFO:tensorflow:loss = 8.275373, step = 601 (0.692 sec)\n",
      "INFO:tensorflow:global_step/sec: 114.946\n",
      "INFO:tensorflow:loss = 4.980707, step = 701 (0.866 sec)\n",
      "INFO:tensorflow:global_step/sec: 151.544\n",
      "INFO:tensorflow:loss = 4.9984884, step = 801 (0.664 sec)\n",
      "INFO:tensorflow:global_step/sec: 148.366\n",
      "INFO:tensorflow:loss = 5.372033, step = 901 (0.681 sec)\n",
      "INFO:tensorflow:Saving checkpoints for 1000 into /tmp/tmpgbmrum6x/model.ckpt.\n",
      "INFO:tensorflow:Loss for final step: 5.1404276.\n"
     ]
    },
    {
     "data": {
      "text/plain": [
       "<tensorflow.python.estimator.canned.dnn.DNNClassifier at 0x7f4c53bf2d68>"
      ]
     },
     "execution_count": 34,
     "metadata": {},
     "output_type": "execute_result"
    }
   ],
   "source": [
    "dnn_estimator.train(input_fn=train_function, steps=1000)"
   ]
  },
  {
   "cell_type": "code",
   "execution_count": 35,
   "metadata": {},
   "outputs": [
    {
     "name": "stdout",
     "output_type": "stream",
     "text": [
      "INFO:tensorflow:Calling model_fn.\n",
      "INFO:tensorflow:Done calling model_fn.\n",
      "INFO:tensorflow:Starting evaluation at 2018-03-10-03:43:42\n",
      "INFO:tensorflow:Graph was finalized.\n",
      "INFO:tensorflow:Restoring parameters from /tmp/tmpgbmrum6x/model.ckpt-1000\n",
      "INFO:tensorflow:Running local_init_op.\n",
      "INFO:tensorflow:Done running local_init_op.\n",
      "INFO:tensorflow:Finished evaluation at 2018-03-10-03:43:43\n",
      "INFO:tensorflow:Saving dict for global step 1000: accuracy = 0.6839827, accuracy_baseline = 0.64935064, auc = 0.7399177, auc_precision_recall = 0.51408166, average_loss = 0.5993931, global_step = 1000, label/mean = 0.35064936, loss = 4.774476, prediction/mean = 0.43413964\n"
     ]
    }
   ],
   "source": [
    "res = dnn_estimator.evaluate(input_fn=test_function, steps=1000)"
   ]
  },
  {
   "cell_type": "code",
   "execution_count": 36,
   "metadata": {},
   "outputs": [
    {
     "data": {
      "text/plain": [
       "{'accuracy': 0.6839827,\n",
       " 'accuracy_baseline': 0.64935064,\n",
       " 'auc': 0.7399177,\n",
       " 'auc_precision_recall': 0.51408166,\n",
       " 'average_loss': 0.5993931,\n",
       " 'global_step': 1000,\n",
       " 'label/mean': 0.35064936,\n",
       " 'loss': 4.774476,\n",
       " 'prediction/mean': 0.43413964}"
      ]
     },
     "execution_count": 36,
     "metadata": {},
     "output_type": "execute_result"
    }
   ],
   "source": [
    "res"
   ]
  },
  {
   "cell_type": "code",
   "execution_count": null,
   "metadata": {},
   "outputs": [],
   "source": []
  }
 ],
 "metadata": {
  "kernelspec": {
   "display_name": "Python 3",
   "language": "python",
   "name": "python3"
  },
  "language_info": {
   "codemirror_mode": {
    "name": "ipython",
    "version": 3
   },
   "file_extension": ".py",
   "mimetype": "text/x-python",
   "name": "python",
   "nbconvert_exporter": "python",
   "pygments_lexer": "ipython3",
   "version": "3.6.3"
  }
 },
 "nbformat": 4,
 "nbformat_minor": 2
}
