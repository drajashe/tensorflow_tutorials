{
 "cells": [
  {
   "cell_type": "code",
   "execution_count": 2,
   "metadata": {},
   "outputs": [],
   "source": [
    "import numpy as np\n",
    "import pandas as pd\n",
    "import tensorflow as tf\n",
    "import matplotlib.pyplot as plt\n",
    "from sklearn.datasets import make_regression\n",
    "import matplotlib.pyplot as plt\n",
    "from tensorflow.examples.tutorials.mnist import input_data\n",
    "%matplotlib inline"
   ]
  },
  {
   "cell_type": "code",
   "execution_count": 4,
   "metadata": {},
   "outputs": [
    {
     "name": "stdout",
     "output_type": "stream",
     "text": [
      "Extracting datasets/MNIST_data/train-images-idx3-ubyte.gz\n",
      "Extracting datasets/MNIST_data/train-labels-idx1-ubyte.gz\n",
      "Extracting datasets/MNIST_data/t10k-images-idx3-ubyte.gz\n",
      "Extracting datasets/MNIST_data/t10k-labels-idx1-ubyte.gz\n"
     ]
    }
   ],
   "source": [
    "mnist = input_data.read_data_sets(\"datasets/MNIST_data/\", one_hot=True)"
   ]
  },
  {
   "cell_type": "code",
   "execution_count": 11,
   "metadata": {},
   "outputs": [
    {
     "data": {
      "text/plain": [
       "<matplotlib.image.AxesImage at 0x7f551d4805f8>"
      ]
     },
     "execution_count": 11,
     "metadata": {},
     "output_type": "execute_result"
    },
    {
     "data": {
      "image/png": "[encoded data removed]",
      "text/plain": [
       "<matplotlib.figure.Figure at 0x7f551d5e86d8>"
      ]
     },
     "metadata": {},
     "output_type": "display_data"
    }
   ],
   "source": [
    "random_image = mnist.train.images[0].reshape(28, 28)\n",
    "plt.imshow(random_image, cmap=\"gist_gray\")"
   ]
  },
  {
   "cell_type": "code",
   "execution_count": 26,
   "metadata": {},
   "outputs": [],
   "source": [
    "input_dim = 784\n",
    "output_dim = 10\n",
    "\n",
    "# Placeholders\n",
    "X = tf.placeholder(tf.float32, shape=[None, input_dim])\n",
    "y = tf.placeholder(tf.float32, shape=[None, output_dim])\n",
    "\n",
    "# Variables\n",
    "W = tf.Variable(tf.zeros((input_dim, output_dim)))\n",
    "b = tf.Variable(tf.zeros((output_dim)))\n",
    "\n",
    "# Graph operations\n",
    "z = tf.matmul(X, W) + b\n",
    "\n",
    "# Loss function\n",
    "# softmax_cross_entropy_with_logits will have same effect as \n",
    "# applying softmax first, and then cross entropy\n",
    "loss = tf.reduce_mean(tf.nn.softmax_cross_entropy_with_logits(labels=y, logits=z))\n",
    "\n",
    "# optimizer\n",
    "optimizer = tf.train.GradientDescentOptimizer(learning_rate=0.1)\n",
    "train = optimizer.minimize(loss)\n",
    "\n",
    "# initializer \n",
    "init = tf.global_variables_initializer()"
   ]
  },
  {
   "cell_type": "code",
   "execution_count": 27,
   "metadata": {},
   "outputs": [
    {
     "name": "stdout",
     "output_type": "stream",
     "text": [
      "Loss at step 0: 2.091\n",
      "Loss at step 500: 0.407\n",
      "Loss at step 1000: 0.338\n",
      "Loss at step 1500: 0.305\n",
      "Loss at step 2000: 0.456\n",
      "Loss at step 2500: 0.184\n",
      "Loss at step 3000: 0.421\n",
      "Loss at step 3500: 0.262\n",
      "Loss at step 4000: 0.513\n",
      "Loss at step 4500: 0.378\n",
      "Loss at step 5000: 0.313\n",
      "Loss at step 5500: 0.446\n",
      "Loss at step 6000: 0.342\n",
      "Loss at step 6500: 0.172\n",
      "Loss at step 7000: 0.176\n",
      "Loss at step 7500: 0.300\n",
      "Loss at step 8000: 0.225\n",
      "Loss at step 8500: 0.163\n",
      "Loss at step 9000: 0.122\n",
      "Loss at step 9500: 0.251\n",
      "Accuracy: 92.300%\n"
     ]
    }
   ],
   "source": [
    "with tf.Session() as sess:\n",
    "    sess.run(init)\n",
    "    steps = 10000\n",
    "    for step in range(steps):\n",
    "        batch_X, batch_y = mnist.train.next_batch(100)\n",
    "        sess.run(train, feed_dict={X: batch_X, y: batch_y})\n",
    "        loss_step = sess.run(loss, feed_dict={X: batch_X, y: batch_y})\n",
    "        if step % 500 == 0:\n",
    "            print(\"Loss at step {0}: {1:.3f}\".format(step, loss_step))\n",
    "    \n",
    "    # Evaluation\n",
    "    # These are different graph operations\n",
    "    correct_prediction = tf.equal(tf.argmax(z, 1), tf.argmax(y, 1))\n",
    "    # cast into float\n",
    "    correct_prediction = tf.cast(correct_prediction, tf.float32)\n",
    "    # calculate accuracy\n",
    "    accuracy = tf.reduce_mean(correct_prediction)\n",
    "    result = sess.run(accuracy, feed_dict={X: mnist.test.images, y: mnist.test.labels})\n",
    "    print(\"Accuracy: {0:.3f}%\".format(result * 100))"
   ]
  },
  {
   "cell_type": "code",
   "execution_count": null,
   "metadata": {},
   "outputs": [],
   "source": []
  }
 ],
 "metadata": {
  "kernelspec": {
   "display_name": "Python 3",
   "language": "python",
   "name": "python3"
  },
  "language_info": {
   "codemirror_mode": {
    "name": "ipython",
    "version": 3
   },
   "file_extension": ".py",
   "mimetype": "text/x-python",
   "name": "python",
   "nbconvert_exporter": "python",
   "pygments_lexer": "ipython3",
   "version": "3.6.3"
  }
 },
 "nbformat": 4,
 "nbformat_minor": 2
}
