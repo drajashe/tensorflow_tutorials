{
 "cells": [
  {
   "cell_type": "markdown",
   "metadata": {},
   "source": [
    "## Basic types in Tensorflow\n",
    "\n",
    "1. Constant: A Constant holds a value that cannot change. \n",
    "```\n",
    "tf.constant([1, 3, 4]) or tf.constant(1) or tf.constant(\"I am a string\")\n",
    "```\n",
    "\n",
    "2. Placeholders: These are values that are unassigned and will be assigned when the Session is started. The actual value will be needed to be fed in. Placeholders need to be initialised with an expected datatype argument, and optionally the shape. \n",
    "```\n",
    "tf.placeholder(dtype=tf.float32, shape=(3, 3))\n",
    "```\n",
    "\n",
    "3. Variables: These are the values that will change. For instance, you are training a Neural Network and the weights values need to change at every iterations. These weights will be of Variable type since they keep changing. Variables need to be initialised with some value and `tf.global_variables_initializer()` should be called before using it. \n",
    "```\n",
    "tf.Variable(value=10)\n",
    "```"
   ]
  },
  {
   "cell_type": "markdown",
   "metadata": {},
   "source": [
    "## Adding two numbers"
   ]
  },
  {
   "cell_type": "code",
   "execution_count": 5,
   "metadata": {},
   "outputs": [],
   "source": [
    "# imports tensorflow\n",
    "import tensorflow as tf"
   ]
  },
  {
   "cell_type": "code",
   "execution_count": 4,
   "metadata": {},
   "outputs": [
    {
     "name": "stdout",
     "output_type": "stream",
     "text": [
      "Result: 30\n"
     ]
    }
   ],
   "source": [
    "a = tf.constant(10)\n",
    "b = tf.constant(20)\n",
    "\n",
    "# operations are performed only inside a \n",
    "# session\n",
    "with tf.Session() as sess:\n",
    "    result = sess.run(a + b)\n",
    "\n",
    "print(\"Result: {}\".format(result))"
   ]
  },
  {
   "cell_type": "markdown",
   "metadata": {},
   "source": [
    "## Working with Matrices\n",
    "Matrices in Tensorflow are 2D Tensors"
   ]
  },
  {
   "cell_type": "code",
   "execution_count": 19,
   "metadata": {},
   "outputs": [
    {
     "name": "stdout",
     "output_type": "stream",
     "text": [
      "Tensor(\"ones_9:0\", shape=(4, 4), dtype=float32)\n",
      "Tensor(\"random_normal_9:0\", shape=(4, 4), dtype=float32)\n",
      "Matrix one: \n",
      "[[ 1.  1.  1.  1.]\n",
      " [ 1.  1.  1.  1.]\n",
      " [ 1.  1.  1.  1.]\n",
      " [ 1.  1.  1.  1.]]\n",
      "Matrix two\n",
      "[[ 0.15291069 -0.4500092   0.25141689  1.44968617]\n",
      " [ 1.15152729  0.23676419  0.27802321  0.18159263]\n",
      " [-1.21611249  0.41470814 -1.30151033 -0.30947879]\n",
      " [-1.10813129 -0.36050779  0.3582184   0.01854444]]\n",
      "Result (NumPy array)\n",
      "[[ 0.75743616  1.77799678 -0.15720248  1.48538554]\n",
      " [ 1.56402528  1.83809948  1.33680892  0.88191712]\n",
      " [-0.39555836  0.83546102  0.39450622  1.33495688]\n",
      " [ 2.83761406  1.10839438  1.65748334  0.72506559]]\n"
     ]
    }
   ],
   "source": [
    "mat_a = tf.ones((4, 4))\n",
    "mat_b = tf.random_normal((4, 4), mean=0, stddev=1)\n",
    "\n",
    "print(mat_a)\n",
    "print(mat_b)\n",
    "\n",
    "with tf.Session() as sess:\n",
    "    # .eval() works only inside a \n",
    "    # session. Alternatively, you can\n",
    "    # also call sess.run(x) which is\n",
    "    # the same thing as x.eval()\n",
    "    print(\"Matrix one: \")\n",
    "    print(mat_a.eval())\n",
    "    print(\"Matrix two\")\n",
    "    print(mat_b.eval())\n",
    "    print(\"Result (NumPy array)\")\n",
    "    result = sess.run(mat_a + mat_b)\n",
    "    print(result)"
   ]
  },
  {
   "cell_type": "markdown",
   "metadata": {},
   "source": [
    "## Matrix mulitplication"
   ]
  },
  {
   "cell_type": "code",
   "execution_count": 28,
   "metadata": {},
   "outputs": [
    {
     "name": "stdout",
     "output_type": "stream",
     "text": [
      "[[20 20 20 20]\n",
      " [20 20 20 20]\n",
      " [20 20 20 20]\n",
      " [20 20 20 20]]\n"
     ]
    }
   ],
   "source": [
    "mat_a = tf.ones((4, 4), dtype=tf.int32)\n",
    "mat_b = tf.fill((4, 4), 5)\n",
    "\n",
    "with tf.Session() as sess:\n",
    "    result = tf.matmul(mat_a, mat_b)\n",
    "    print(result.eval())"
   ]
  },
  {
   "cell_type": "markdown",
   "metadata": {},
   "source": [
    "## Variables"
   ]
  },
  {
   "cell_type": "code",
   "execution_count": 39,
   "metadata": {},
   "outputs": [],
   "source": [
    "var = tf.Variable(10)\n",
    "# you need to run init first to initialize\n",
    "# the variables else it will throw error\n",
    "init = tf.global_variables_initializer()"
   ]
  },
  {
   "cell_type": "code",
   "execution_count": 38,
   "metadata": {},
   "outputs": [
    {
     "name": "stdout",
     "output_type": "stream",
     "text": [
      "10\n"
     ]
    }
   ],
   "source": [
    "with tf.Session() as sess:\n",
    "    sess.run(init)\n",
    "    print(var.eval())"
   ]
  },
  {
   "cell_type": "markdown",
   "metadata": {},
   "source": [
    "## Placeholder\n"
   ]
  },
  {
   "cell_type": "code",
   "execution_count": 42,
   "metadata": {},
   "outputs": [
    {
     "name": "stdout",
     "output_type": "stream",
     "text": [
      "300.0\n"
     ]
    }
   ],
   "source": [
    "ph_a = tf.placeholder(dtype=tf.float32)\n",
    "ph_b = tf.placeholder(dtype=tf.float32)\n",
    "add_op = tf.add(ph_a, ph_b)\n",
    "\n",
    "with tf.Session() as sess:\n",
    "    # feed dictionary will provide the values to \n",
    "    # be fed in for placeholders\n",
    "    result = sess.run(add_op, feed_dict={ph_a: 100, ph_b: 200})\n",
    "    print(result)"
   ]
  },
  {
   "cell_type": "code",
   "execution_count": null,
   "metadata": {},
   "outputs": [],
   "source": []
  }
 ],
 "metadata": {
  "kernelspec": {
   "display_name": "Python 3",
   "language": "python",
   "name": "python3"
  },
  "language_info": {
   "codemirror_mode": {
    "name": "ipython",
    "version": 3
   },
   "file_extension": ".py",
   "mimetype": "text/x-python",
   "name": "python",
   "nbconvert_exporter": "python",
   "pygments_lexer": "ipython3",
   "version": "3.6.3"
  }
 },
 "nbformat": 4,
 "nbformat_minor": 2
}
