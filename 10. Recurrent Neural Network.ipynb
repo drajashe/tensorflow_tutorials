{
 "cells": [
  {
   "cell_type": "code",
   "execution_count": 2,
   "metadata": {},
   "outputs": [],
   "source": [
    "import tensorflow as tf\n",
    "import numpy as np\n",
    "import matplotlib.pyplot as plt"
   ]
  },
  {
   "cell_type": "code",
   "execution_count": 3,
   "metadata": {},
   "outputs": [],
   "source": [
    "num_input = 2\n",
    "num_hidden = 3\n"
   ]
  },
  {
   "cell_type": "markdown",
   "metadata": {},
   "source": [
    "### Placeholders (Inputs)"
   ]
  },
  {
   "cell_type": "code",
   "execution_count": 5,
   "metadata": {},
   "outputs": [],
   "source": [
    "X1 = tf.placeholder(tf.float32, shape=[None, 2])\n",
    "X2 = tf.placeholder(tf.float32, shape=[None, 2])"
   ]
  },
  {
   "cell_type": "markdown",
   "metadata": {},
   "source": [
    "### Variables (Weights)"
   ]
  },
  {
   "cell_type": "code",
   "execution_count": 13,
   "metadata": {},
   "outputs": [],
   "source": [
    "W1 = tf.Variable(tf.random_normal(shape=[num_input, num_hidden]))\n",
    "W2 = tf.Variable(tf.random_normal(shape=[num_hidden, num_hidden]))\n",
    "b = tf.Variable(tf.random_normal(shape=[1, num_hidden]))"
   ]
  },
  {
   "cell_type": "markdown",
   "metadata": {},
   "source": [
    "### Graph Operations\n"
   ]
  },
  {
   "cell_type": "code",
   "execution_count": 14,
   "metadata": {},
   "outputs": [],
   "source": [
    "y0 = tf.matmul(X1, W1) + b\n",
    "y1 = tf.matmul(X2, W1) + tf.matmul(y0, W2) + b\n",
    "init = tf.global_variables_initializer()"
   ]
  },
  {
   "cell_type": "code",
   "execution_count": 15,
   "metadata": {},
   "outputs": [
    {
     "name": "stdout",
     "output_type": "stream",
     "text": [
      "Y0: [[ 2.1062934   0.6099524  -0.31374425]\n",
      " [ 4.060606    2.8197536  -0.54228216]\n",
      " [ 6.0149183   5.0295553  -0.7708201 ]]\n",
      "Y1: [[200.52452  218.27397  -26.710806]\n",
      " [206.42929  217.31969  -28.623743]\n",
      " [212.33406  216.3654   -30.536676]]\n"
     ]
    }
   ],
   "source": [
    "X1_batch = np.array([[0, 1], [1, 2], [2, 3]])\n",
    "X2_batch = np.array([[100, 101], [101, 102], [102, 103]])\n",
    "\n",
    "with tf.Session() as sess:\n",
    "    sess.run(init)\n",
    "    y_pred0 = sess.run(y0, feed_dict={X1: X1_batch, X2: X2_batch})\n",
    "    y_pred1 = sess.run(y1, feed_dict={X1: X1_batch, X2: X2_batch})\n",
    "    print(\"Y0: {}\".format(y_pred0))\n",
    "    print(\"Y1: {}\".format(y_pred1))"
   ]
  },
  {
   "cell_type": "code",
   "execution_count": null,
   "metadata": {},
   "outputs": [],
   "source": []
  }
 ],
 "metadata": {
  "kernelspec": {
   "display_name": "Python 3",
   "language": "python",
   "name": "python3"
  },
  "language_info": {
   "codemirror_mode": {
    "name": "ipython",
    "version": 3
   },
   "file_extension": ".py",
   "mimetype": "text/x-python",
   "name": "python",
   "nbconvert_exporter": "python",
   "pygments_lexer": "ipython3",
   "version": "3.6.3"
  }
 },
 "nbformat": 4,
 "nbformat_minor": 2
}
