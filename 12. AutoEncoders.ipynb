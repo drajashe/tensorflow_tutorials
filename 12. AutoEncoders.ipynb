{
  "nbformat": 4,
  "nbformat_minor": 0,
  "metadata": {
    "colab": {
      "name": "12. AutoEncoders.ipynb",
      "version": "0.3.2",
      "views": {},
      "default_view": {},
      "provenance": []
    },
    "kernelspec": {
      "display_name": "Python 3",
      "language": "python",
      "name": "python3"
    },
    "accelerator": "GPU"
  },
  "cells": [
    {
      "metadata": {
        "id": "0z2ORbKFgsLJ",
        "colab_type": "code",
        "colab": {
          "autoexec": {
            "startup": false,
            "wait_interval": 0
          }
        }
      },
      "cell_type": "code",
      "source": [
        "import tensorflow as tf\n",
        "import numpy as np\n",
        "import matplotlib.pyplot as plt\n",
        "%matplotlib inline\n",
        "\n",
        "from tensorflow.examples.tutorials.mnist import input_data"
      ],
      "execution_count": 0,
      "outputs": []
    },
    {
      "metadata": {
        "id": "oI2r1aeagsLw",
        "colab_type": "code",
        "colab": {
          "autoexec": {
            "startup": false,
            "wait_interval": 0
          },
          "output_extras": [
            {
              "item_id": 2
            }
          ],
          "base_uri": "https://localhost:8080/",
          "height": 156
        },
        "outputId": "3474f908-a79f-468b-9f88-e64d7e94c17b",
        "executionInfo": {
          "status": "ok",
          "timestamp": 1521518709491,
          "user_tz": -330,
          "elapsed": 1310,
          "user": {
            "displayName": "Mayur Kulkarni",
            "photoUrl": "https://lh3.googleusercontent.com/a/default-user=s128",
            "userId": "116301151646646358552"
          }
        }
      },
      "cell_type": "code",
      "source": [
        "mnist = input_data.read_data_sets(\".\", one_hot=True)"
      ],
      "execution_count": 3,
      "outputs": [
        {
          "output_type": "stream",
          "text": [
            "Successfully downloaded train-images-idx3-ubyte.gz 9912422 bytes.\n",
            "Extracting ./train-images-idx3-ubyte.gz\n",
            "Successfully downloaded train-labels-idx1-ubyte.gz 28881 bytes.\n",
            "Extracting ./train-labels-idx1-ubyte.gz\n",
            "Successfully downloaded t10k-images-idx3-ubyte.gz 1648877 bytes.\n",
            "Extracting ./t10k-images-idx3-ubyte.gz\n",
            "Successfully downloaded t10k-labels-idx1-ubyte.gz 4542 bytes.\n",
            "Extracting ./t10k-labels-idx1-ubyte.gz\n"
          ],
          "name": "stdout"
        }
      ]
    },
    {
      "metadata": {
        "id": "tpQ_Mao9gsMY",
        "colab_type": "code",
        "colab": {
          "autoexec": {
            "startup": false,
            "wait_interval": 0
          },
          "output_extras": [
            {
              "item_id": 1
            },
            {
              "item_id": 2
            }
          ],
          "base_uri": "https://localhost:8080/",
          "height": 282
        },
        "outputId": "6ef2f1d6-b9c9-40dd-d2a1-388e10015bf1",
        "executionInfo": {
          "status": "ok",
          "timestamp": 1521518710390,
          "user_tz": -330,
          "elapsed": 730,
          "user": {
            "displayName": "Mayur Kulkarni",
            "photoUrl": "https://lh3.googleusercontent.com/a/default-user=s128",
            "userId": "116301151646646358552"
          }
        }
      },
      "cell_type": "code",
      "source": [
        "# show a random image from MNIST dataset\n",
        "plt.imshow(mnist.train.next_batch(1)[0].reshape(28, 28), cmap=\"gist_gray\")"
      ],
      "execution_count": 4,
      "outputs": [
        {
          "output_type": "execute_result",
          "data": {
            "text/plain": [
              "<matplotlib.image.AxesImage at 0x7f1577268e80>"
            ]
          },
          "metadata": {
            "tags": []
          },
          "execution_count": 4
        },
        {
          "output_type": "display_data",
          "data": {
            "image/png": "[encoded data removed]",
            "text/plain": [
              "<matplotlib.figure.Figure at 0x7f157771c4a8>"
            ]
          },
          "metadata": {
            "tags": []
          }
        }
      ]
    },
    {
      "metadata": {
        "id": "YWHM2wJYgsM4",
        "colab_type": "code",
        "colab": {
          "autoexec": {
            "startup": false,
            "wait_interval": 0
          }
        }
      },
      "cell_type": "code",
      "source": [
        "class AutoEncoder:\n",
        "    \"\"\"Creates an AutoEncoder for compressing MNIST\n",
        "    dataset\n",
        "    \n",
        "    Architecture\n",
        "    ------------\n",
        "    Image (28x28) \n",
        "       -- Input Layer(1x784) -- Dense Layer(784x100) -- Output Layer(100x784)\n",
        "    Loss Function: Mean Squared Error\n",
        "    Optimizer: Adam Optimizer\n",
        "    \"\"\"\n",
        "    def __init__(self):\n",
        "        self.num_input = 28*28\n",
        "        self.num_hidden_1 = 100\n",
        "        self.num_output = self.num_input\n",
        "        self.X = tf.placeholder(tf.float32, \n",
        "                                shape=[None, self.num_input])\n",
        "    \n",
        "    def forward_pass(self):\n",
        "        \"\"\" Make a forward pass in the Neural Network\"\"\"\n",
        "        W1 = tf.Variable(initial_value=\n",
        "                         tf.truncated_normal([self.num_input, \n",
        "                                              self.num_hidden_1]))\n",
        "        W2 = tf.transpose(W1)\n",
        "        b1 = tf.Variable(initial_value=tf.random_normal([self.num_hidden_1]))\n",
        "        b2 = tf.Variable(initial_value=tf.random_normal([self.num_output]))\n",
        "        \n",
        "        hidden_output = tf.matmul(self.X, W1) + b1\n",
        "        final_output = tf.matmul(hidden_output, W2) + b2\n",
        "        return final_output\n",
        "    \n",
        "    def train(self):\n",
        "        \"\"\"Trains the Network\"\"\"\n",
        "        y_pred = self.forward_pass()\n",
        "        error = tf.losses.mean_squared_error(labels=self.X, \n",
        "                                             predictions=y_pred)\n",
        "        optimizer = tf.train.AdamOptimizer(learning_rate=0.01)\n",
        "        train = optimizer.minimize(error)\n",
        "        init = tf.global_variables_initializer()\n",
        "        \n",
        "        with tf.Session() as sess:\n",
        "            sess.run(init)\n",
        "            for i in range(20000):\n",
        "                X_batch, y_batch = mnist.train.next_batch(50)\n",
        "                sess.run(train, feed_dict={self.X: X_batch})\n",
        "                loss = sess.run(error, feed_dict={self.X: X_batch})\n",
        "                if i % 2000 == 0:\n",
        "                    print(\"Iteration: {} Loss {}\".format(i, loss))\n",
        "            X_batch = mnist.test.next_batch(1)[0]\n",
        "            plt.imshow(X_batch.reshape(28, 28), cmap=\"gist_gray\")\n",
        "            plt.show()\n",
        "            plt.imshow(sess.run(y_pred,\n",
        "                                feed_dict={self.X: X_batch}).reshape(28, 28),\n",
        "                                cmap=\"gist_gray\")\n",
        "            plt.show()"
      ],
      "execution_count": 0,
      "outputs": []
    },
    {
      "metadata": {
        "id": "NC4UQl78lTAY",
        "colab_type": "code",
        "colab": {
          "autoexec": {
            "startup": false,
            "wait_interval": 0
          },
          "output_extras": [
            {
              "item_id": 10
            },
            {
              "item_id": 11
            },
            {
              "item_id": 12
            }
          ],
          "base_uri": "https://localhost:8080/",
          "height": 687
        },
        "outputId": "f35c5be9-3419-4f54-a643-a492a53af1db",
        "executionInfo": {
          "status": "ok",
          "timestamp": 1521519087402,
          "user_tz": -330,
          "elapsed": 49407,
          "user": {
            "displayName": "Mayur Kulkarni",
            "photoUrl": "https://lh3.googleusercontent.com/a/default-user=s128",
            "userId": "116301151646646358552"
          }
        }
      },
      "cell_type": "code",
      "source": [
        "AutoEncoder().train()"
      ],
      "execution_count": 24,
      "outputs": [
        {
          "output_type": "stream",
          "text": [
            "Iteration: 0 Loss 5440.36572265625\n",
            "Iteration: 2000 Loss 4.119136810302734\n",
            "Iteration: 4000 Loss 0.5287615656852722\n",
            "Iteration: 6000 Loss 0.1382046639919281\n",
            "Iteration: 8000 Loss 0.06375974416732788\n",
            "Iteration: 10000 Loss 0.021493952721357346\n",
            "Iteration: 12000 Loss 0.010436270385980606\n",
            "Iteration: 14000 Loss 0.006641633342951536\n",
            "Iteration: 16000 Loss 0.006758757401257753\n",
            "Iteration: 18000 Loss 0.0076367505826056\n"
          ],
          "name": "stdout"
        },
        {
          "output_type": "display_data",
          "data": {
            "image/png": "[encoded data removed]",
            "text/plain": [
              "<matplotlib.figure.Figure at 0x7f1570432f98>"
            ]
          },
          "metadata": {
            "tags": []
          }
        },
        {
          "output_type": "display_data",
          "data": {
            "image/png": "[encoded data removed]",
            "text/plain": [
              "<matplotlib.figure.Figure at 0x7f156e1a2e80>"
            ]
          },
          "metadata": {
            "tags": []
          }
        }
      ]
    },
    {
      "metadata": {
        "id": "frJCLqcjlVHs",
        "colab_type": "code",
        "colab": {
          "autoexec": {
            "startup": false,
            "wait_interval": 0
          }
        }
      },
      "cell_type": "code",
      "source": [
        ""
      ],
      "execution_count": 0,
      "outputs": []
    }
  ]
}