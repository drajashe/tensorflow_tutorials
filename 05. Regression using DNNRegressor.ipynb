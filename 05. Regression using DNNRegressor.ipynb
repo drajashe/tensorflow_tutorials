{
 "cells": [
  {
   "cell_type": "markdown",
   "metadata": {},
   "source": [
    "## DNNRegressor Example"
   ]
  },
  {
   "cell_type": "code",
   "execution_count": 1,
   "metadata": {},
   "outputs": [
    {
     "name": "stderr",
     "output_type": "stream",
     "text": [
      "/home/uzumaki/anaconda3/lib/python3.6/site-packages/h5py/__init__.py:34: FutureWarning: Conversion of the second argument of issubdtype from `float` to `np.floating` is deprecated. In future, it will be treated as `np.float64 == np.dtype(float).type`.\n",
      "  from ._conv import register_converters as _register_converters\n"
     ]
    }
   ],
   "source": [
    "import numpy as np\n",
    "import pandas as pd\n",
    "import tensorflow as tf\n",
    "import matplotlib.pyplot as plt\n",
    "from sklearn.datasets import make_regression\n",
    "import matplotlib.pyplot as plt\n",
    "%matplotlib inline"
   ]
  },
  {
   "cell_type": "code",
   "execution_count": 2,
   "metadata": {},
   "outputs": [
    {
     "data": {
      "text/html": [
       "<div>\n",
       "<style>\n",
       "    .dataframe thead tr:only-child th {\n",
       "        text-align: right;\n",
       "    }\n",
       "\n",
       "    .dataframe thead th {\n",
       "        text-align: left;\n",
       "    }\n",
       "\n",
       "    .dataframe tbody tr th {\n",
       "        vertical-align: top;\n",
       "    }\n",
       "</style>\n",
       "<table border=\"1\" class=\"dataframe\">\n",
       "  <thead>\n",
       "    <tr style=\"text-align: right;\">\n",
       "      <th></th>\n",
       "      <th>housingMedianAge</th>\n",
       "      <th>totalRooms</th>\n",
       "      <th>totalBedrooms</th>\n",
       "      <th>population</th>\n",
       "      <th>households</th>\n",
       "      <th>medianIncome</th>\n",
       "      <th>medianHouseValue</th>\n",
       "    </tr>\n",
       "  </thead>\n",
       "  <tbody>\n",
       "    <tr>\n",
       "      <th>0</th>\n",
       "      <td>41.0</td>\n",
       "      <td>880.0</td>\n",
       "      <td>129.0</td>\n",
       "      <td>322.0</td>\n",
       "      <td>126.0</td>\n",
       "      <td>8.3252</td>\n",
       "      <td>452600.0</td>\n",
       "    </tr>\n",
       "    <tr>\n",
       "      <th>1</th>\n",
       "      <td>21.0</td>\n",
       "      <td>7099.0</td>\n",
       "      <td>1106.0</td>\n",
       "      <td>2401.0</td>\n",
       "      <td>1138.0</td>\n",
       "      <td>8.3014</td>\n",
       "      <td>358500.0</td>\n",
       "    </tr>\n",
       "    <tr>\n",
       "      <th>2</th>\n",
       "      <td>52.0</td>\n",
       "      <td>1467.0</td>\n",
       "      <td>190.0</td>\n",
       "      <td>496.0</td>\n",
       "      <td>177.0</td>\n",
       "      <td>7.2574</td>\n",
       "      <td>352100.0</td>\n",
       "    </tr>\n",
       "    <tr>\n",
       "      <th>3</th>\n",
       "      <td>52.0</td>\n",
       "      <td>1274.0</td>\n",
       "      <td>235.0</td>\n",
       "      <td>558.0</td>\n",
       "      <td>219.0</td>\n",
       "      <td>5.6431</td>\n",
       "      <td>341300.0</td>\n",
       "    </tr>\n",
       "    <tr>\n",
       "      <th>4</th>\n",
       "      <td>52.0</td>\n",
       "      <td>1627.0</td>\n",
       "      <td>280.0</td>\n",
       "      <td>565.0</td>\n",
       "      <td>259.0</td>\n",
       "      <td>3.8462</td>\n",
       "      <td>342200.0</td>\n",
       "    </tr>\n",
       "  </tbody>\n",
       "</table>\n",
       "</div>"
      ],
      "text/plain": [
       "   housingMedianAge  totalRooms  totalBedrooms  population  households  \\\n",
       "0              41.0       880.0          129.0       322.0       126.0   \n",
       "1              21.0      7099.0         1106.0      2401.0      1138.0   \n",
       "2              52.0      1467.0          190.0       496.0       177.0   \n",
       "3              52.0      1274.0          235.0       558.0       219.0   \n",
       "4              52.0      1627.0          280.0       565.0       259.0   \n",
       "\n",
       "   medianIncome  medianHouseValue  \n",
       "0        8.3252          452600.0  \n",
       "1        8.3014          358500.0  \n",
       "2        7.2574          352100.0  \n",
       "3        5.6431          341300.0  \n",
       "4        3.8462          342200.0  "
      ]
     },
     "execution_count": 2,
     "metadata": {},
     "output_type": "execute_result"
    }
   ],
   "source": [
    "df = pd.read_csv(\"datasets/cal_housing_clean.csv\")\n",
    "df.head()"
   ]
  },
  {
   "cell_type": "markdown",
   "metadata": {},
   "source": [
    "## 1. Normalize"
   ]
  },
  {
   "cell_type": "code",
   "execution_count": 3,
   "metadata": {},
   "outputs": [],
   "source": [
    "cols_to_normalize = ['housingMedianAge', 'totalRooms', 'totalBedrooms', 'population', 'households', 'medianIncome']"
   ]
  },
  {
   "cell_type": "code",
   "execution_count": 4,
   "metadata": {},
   "outputs": [],
   "source": [
    "df[cols_to_normalize] = df[cols_to_normalize].apply(lambda x: (x - x.min()) / (x.max() - x.min()))"
   ]
  },
  {
   "cell_type": "code",
   "execution_count": 5,
   "metadata": {},
   "outputs": [],
   "source": [
    "X = df[cols_to_normalize]\n",
    "y = df[\"medianHouseValue\"]"
   ]
  },
  {
   "cell_type": "markdown",
   "metadata": {},
   "source": [
    "## 2. Prepare train test dataset"
   ]
  },
  {
   "cell_type": "code",
   "execution_count": 6,
   "metadata": {},
   "outputs": [],
   "source": [
    "from sklearn.model_selection import train_test_split\n",
    "\n",
    "X_train, X_test, y_train, y_test = train_test_split(X, y, test_size=0.3)"
   ]
  },
  {
   "cell_type": "markdown",
   "metadata": {},
   "source": [
    "## 3. Define input variables"
   ]
  },
  {
   "cell_type": "code",
   "execution_count": 7,
   "metadata": {},
   "outputs": [],
   "source": [
    "housing_median_age = tf.feature_column.numeric_column(\"housingMedianAge\")\n",
    "total_rooms = tf.feature_column.numeric_column(\"totalRooms\")\n",
    "total_bedrooms = tf.feature_column.numeric_column(\"totalBedrooms\")\n",
    "population = tf.feature_column.numeric_column(\"population\")\n",
    "households = tf.feature_column.numeric_column(\"households\")\n",
    "median_income = tf.feature_column.numeric_column(\"medianIncome\")\n",
    "feat_cols = [housing_median_age, total_rooms, total_bedrooms, population, households, median_income]"
   ]
  },
  {
   "cell_type": "markdown",
   "metadata": {},
   "source": [
    "## 4. Create Input Function\n"
   ]
  },
  {
   "cell_type": "code",
   "execution_count": 8,
   "metadata": {},
   "outputs": [],
   "source": [
    "train_function = tf.estimator.inputs.pandas_input_fn(X_train, y_train, num_epochs=1000, shuffle=True, batch_size=10)\n",
    "test_function = tf.estimator.inputs.pandas_input_fn(X_test, y_test, shuffle=False)\n"
   ]
  },
  {
   "cell_type": "code",
   "execution_count": 9,
   "metadata": {},
   "outputs": [
    {
     "name": "stdout",
     "output_type": "stream",
     "text": [
      "INFO:tensorflow:Using default config.\n",
      "WARNING:tensorflow:Using temporary folder as model directory: /tmp/tmpz4loyxt3\n",
      "INFO:tensorflow:Using config: {'_model_dir': '/tmp/tmpz4loyxt3', '_tf_random_seed': None, '_save_summary_steps': 100, '_save_checkpoints_steps': None, '_save_checkpoints_secs': 600, '_session_config': None, '_keep_checkpoint_max': 5, '_keep_checkpoint_every_n_hours': 10000, '_log_step_count_steps': 100, '_service': None, '_cluster_spec': <tensorflow.python.training.server_lib.ClusterSpec object at 0x7fc5730c1358>, '_task_type': 'worker', '_task_id': 0, '_global_id_in_cluster': 0, '_master': '', '_evaluation_master': '', '_is_chief': True, '_num_ps_replicas': 0, '_num_worker_replicas': 1}\n"
     ]
    }
   ],
   "source": [
    "estimator = tf.estimator.LinearRegressor(feature_columns=feat_cols)"
   ]
  },
  {
   "cell_type": "code",
   "execution_count": 10,
   "metadata": {},
   "outputs": [
    {
     "name": "stdout",
     "output_type": "stream",
     "text": [
      "INFO:tensorflow:Calling model_fn.\n",
      "INFO:tensorflow:Done calling model_fn.\n",
      "INFO:tensorflow:Create CheckpointSaverHook.\n",
      "INFO:tensorflow:Graph was finalized.\n",
      "INFO:tensorflow:Running local_init_op.\n",
      "INFO:tensorflow:Done running local_init_op.\n",
      "INFO:tensorflow:Saving checkpoints for 1 into /tmp/tmpz4loyxt3/model.ckpt.\n",
      "INFO:tensorflow:loss = 436627240000.0, step = 1\n",
      "INFO:tensorflow:global_step/sec: 156.266\n",
      "INFO:tensorflow:loss = 452014080000.0, step = 101 (0.651 sec)\n",
      "INFO:tensorflow:global_step/sec: 181.64\n",
      "INFO:tensorflow:loss = 569289400000.0, step = 201 (0.542 sec)\n",
      "INFO:tensorflow:global_step/sec: 180.131\n",
      "INFO:tensorflow:loss = 355823450000.0, step = 301 (0.555 sec)\n",
      "INFO:tensorflow:global_step/sec: 159.05\n",
      "INFO:tensorflow:loss = 1193032000000.0, step = 401 (0.650 sec)\n",
      "INFO:tensorflow:global_step/sec: 164.79\n",
      "INFO:tensorflow:loss = 779108160000.0, step = 501 (0.596 sec)\n",
      "INFO:tensorflow:global_step/sec: 171.827\n",
      "INFO:tensorflow:loss = 659939260000.0, step = 601 (0.572 sec)\n",
      "INFO:tensorflow:global_step/sec: 184.617\n",
      "INFO:tensorflow:loss = 468794570000.0, step = 701 (0.541 sec)\n",
      "INFO:tensorflow:global_step/sec: 145.645\n",
      "INFO:tensorflow:loss = 502065600000.0, step = 801 (0.702 sec)\n",
      "INFO:tensorflow:global_step/sec: 157.182\n",
      "INFO:tensorflow:loss = 379305460000.0, step = 901 (0.653 sec)\n",
      "INFO:tensorflow:Saving checkpoints for 1000 into /tmp/tmpz4loyxt3/model.ckpt.\n",
      "INFO:tensorflow:Loss for final step: 293810340000.0.\n"
     ]
    },
    {
     "data": {
      "text/plain": [
       "<tensorflow.python.estimator.canned.linear.LinearRegressor at 0x7fc573e54438>"
      ]
     },
     "execution_count": 10,
     "metadata": {},
     "output_type": "execute_result"
    }
   ],
   "source": [
    "estimator.train(input_fn=train_function, steps=1000)"
   ]
  },
  {
   "cell_type": "code",
   "execution_count": 11,
   "metadata": {},
   "outputs": [
    {
     "name": "stdout",
     "output_type": "stream",
     "text": [
      "INFO:tensorflow:Calling model_fn.\n",
      "INFO:tensorflow:Done calling model_fn.\n",
      "INFO:tensorflow:Starting evaluation at 2018-03-10-05:36:55\n",
      "INFO:tensorflow:Graph was finalized.\n",
      "INFO:tensorflow:Restoring parameters from /tmp/tmpz4loyxt3/model.ckpt-1000\n",
      "INFO:tensorflow:Running local_init_op.\n",
      "INFO:tensorflow:Done running local_init_op.\n",
      "INFO:tensorflow:Finished evaluation at 2018-03-10-05:36:56\n",
      "INFO:tensorflow:Saving dict for global step 1000: average_loss = 56806310000.0, global_step = 1000, loss = 7178462700000.0\n"
     ]
    },
    {
     "data": {
      "text/plain": [
       "{'average_loss': 56806310000.0, 'global_step': 1000, 'loss': 7178462700000.0}"
      ]
     },
     "execution_count": 11,
     "metadata": {},
     "output_type": "execute_result"
    }
   ],
   "source": [
    "estimator.evaluate(input_fn=test_function, steps=1000)"
   ]
  },
  {
   "cell_type": "markdown",
   "metadata": {},
   "source": [
    "## DNNRegressor"
   ]
  },
  {
   "cell_type": "code",
   "execution_count": 12,
   "metadata": {},
   "outputs": [
    {
     "name": "stdout",
     "output_type": "stream",
     "text": [
      "INFO:tensorflow:Using default config.\n",
      "WARNING:tensorflow:Using temporary folder as model directory: /tmp/tmpaw8ri3qy\n",
      "INFO:tensorflow:Using config: {'_model_dir': '/tmp/tmpaw8ri3qy', '_tf_random_seed': None, '_save_summary_steps': 100, '_save_checkpoints_steps': None, '_save_checkpoints_secs': 600, '_session_config': None, '_keep_checkpoint_max': 5, '_keep_checkpoint_every_n_hours': 10000, '_log_step_count_steps': 100, '_service': None, '_cluster_spec': <tensorflow.python.training.server_lib.ClusterSpec object at 0x7fc5549fd240>, '_task_type': 'worker', '_task_id': 0, '_global_id_in_cluster': 0, '_master': '', '_evaluation_master': '', '_is_chief': True, '_num_ps_replicas': 0, '_num_worker_replicas': 1}\n"
     ]
    }
   ],
   "source": [
    "dnn_regressor = tf.estimator.DNNRegressor(hidden_units=[10, 10, 10, 10], feature_columns=feat_cols)"
   ]
  },
  {
   "cell_type": "code",
   "execution_count": 13,
   "metadata": {},
   "outputs": [
    {
     "name": "stdout",
     "output_type": "stream",
     "text": [
      "INFO:tensorflow:Calling model_fn.\n",
      "INFO:tensorflow:Done calling model_fn.\n",
      "INFO:tensorflow:Create CheckpointSaverHook.\n",
      "INFO:tensorflow:Graph was finalized.\n",
      "INFO:tensorflow:Running local_init_op.\n",
      "INFO:tensorflow:Done running local_init_op.\n",
      "INFO:tensorflow:Saving checkpoints for 1 into /tmp/tmpaw8ri3qy/model.ckpt.\n",
      "INFO:tensorflow:loss = 1120579200000.0, step = 1\n",
      "INFO:tensorflow:global_step/sec: 116.013\n",
      "INFO:tensorflow:loss = 259285930000.0, step = 101 (0.865 sec)\n",
      "INFO:tensorflow:global_step/sec: 149.7\n",
      "INFO:tensorflow:loss = 88914590000.0, step = 201 (0.669 sec)\n",
      "INFO:tensorflow:global_step/sec: 155.094\n",
      "INFO:tensorflow:loss = 146274960000.0, step = 301 (0.651 sec)\n",
      "INFO:tensorflow:global_step/sec: 157.275\n",
      "INFO:tensorflow:loss = 90232400000.0, step = 401 (0.628 sec)\n",
      "INFO:tensorflow:global_step/sec: 191.302\n",
      "INFO:tensorflow:loss = 69445210000.0, step = 501 (0.526 sec)\n",
      "INFO:tensorflow:global_step/sec: 147.397\n",
      "INFO:tensorflow:loss = 19649542000.0, step = 601 (0.683 sec)\n",
      "INFO:tensorflow:global_step/sec: 176.846\n",
      "INFO:tensorflow:loss = 195213510000.0, step = 701 (0.561 sec)\n",
      "INFO:tensorflow:global_step/sec: 164.654\n",
      "INFO:tensorflow:loss = 282934940000.0, step = 801 (0.605 sec)\n",
      "INFO:tensorflow:global_step/sec: 187.723\n",
      "INFO:tensorflow:loss = 189662900000.0, step = 901 (0.544 sec)\n",
      "INFO:tensorflow:global_step/sec: 132.47\n",
      "INFO:tensorflow:loss = 77485015000.0, step = 1001 (0.747 sec)\n",
      "INFO:tensorflow:global_step/sec: 180.568\n",
      "INFO:tensorflow:loss = 73426790000.0, step = 1101 (0.555 sec)\n",
      "INFO:tensorflow:global_step/sec: 144.516\n",
      "INFO:tensorflow:loss = 38255518000.0, step = 1201 (0.695 sec)\n",
      "INFO:tensorflow:global_step/sec: 183.414\n",
      "INFO:tensorflow:loss = 92345880000.0, step = 1301 (0.541 sec)\n",
      "INFO:tensorflow:global_step/sec: 172\n",
      "INFO:tensorflow:loss = 64588743000.0, step = 1401 (0.578 sec)\n",
      "INFO:tensorflow:global_step/sec: 144.471\n",
      "INFO:tensorflow:loss = 158855500000.0, step = 1501 (0.691 sec)\n",
      "INFO:tensorflow:global_step/sec: 167.169\n",
      "INFO:tensorflow:loss = 60005093000.0, step = 1601 (0.599 sec)\n",
      "INFO:tensorflow:global_step/sec: 171.901\n",
      "INFO:tensorflow:loss = 185271190000.0, step = 1701 (0.582 sec)\n",
      "INFO:tensorflow:global_step/sec: 169.004\n",
      "INFO:tensorflow:loss = 74527105000.0, step = 1801 (0.616 sec)\n",
      "INFO:tensorflow:global_step/sec: 145.804\n",
      "INFO:tensorflow:loss = 24092130000.0, step = 1901 (0.675 sec)\n",
      "INFO:tensorflow:global_step/sec: 177.19\n",
      "INFO:tensorflow:loss = 79956150000.0, step = 2001 (0.551 sec)\n",
      "INFO:tensorflow:global_step/sec: 140.43\n",
      "INFO:tensorflow:loss = 108000920000.0, step = 2101 (0.715 sec)\n",
      "INFO:tensorflow:global_step/sec: 181.828\n",
      "INFO:tensorflow:loss = 121045746000.0, step = 2201 (0.547 sec)\n",
      "INFO:tensorflow:global_step/sec: 175.36\n",
      "INFO:tensorflow:loss = 56399913000.0, step = 2301 (0.570 sec)\n",
      "INFO:tensorflow:global_step/sec: 135.686\n",
      "INFO:tensorflow:loss = 125307830000.0, step = 2401 (0.741 sec)\n",
      "INFO:tensorflow:global_step/sec: 169.147\n",
      "INFO:tensorflow:loss = 71302430000.0, step = 2501 (0.587 sec)\n",
      "INFO:tensorflow:global_step/sec: 179.783\n",
      "INFO:tensorflow:loss = 53597327000.0, step = 2601 (0.563 sec)\n",
      "INFO:tensorflow:global_step/sec: 149.795\n",
      "INFO:tensorflow:loss = 137783820000.0, step = 2701 (0.681 sec)\n",
      "INFO:tensorflow:global_step/sec: 153.062\n",
      "INFO:tensorflow:loss = 67877106000.0, step = 2801 (0.638 sec)\n",
      "INFO:tensorflow:global_step/sec: 181.838\n",
      "INFO:tensorflow:loss = 87120445000.0, step = 2901 (0.549 sec)\n",
      "INFO:tensorflow:global_step/sec: 181.246\n",
      "INFO:tensorflow:loss = 61571064000.0, step = 3001 (0.550 sec)\n",
      "INFO:tensorflow:global_step/sec: 143.243\n",
      "INFO:tensorflow:loss = 166949260000.0, step = 3101 (0.697 sec)\n",
      "INFO:tensorflow:global_step/sec: 182.386\n",
      "INFO:tensorflow:loss = 37937680000.0, step = 3201 (0.551 sec)\n",
      "INFO:tensorflow:global_step/sec: 179.044\n",
      "INFO:tensorflow:loss = 139777050000.0, step = 3301 (0.555 sec)\n",
      "INFO:tensorflow:global_step/sec: 190.736\n",
      "INFO:tensorflow:loss = 98634160000.0, step = 3401 (0.541 sec)\n",
      "INFO:tensorflow:global_step/sec: 139.388\n",
      "INFO:tensorflow:loss = 60939035000.0, step = 3501 (0.700 sec)\n",
      "INFO:tensorflow:global_step/sec: 183.139\n",
      "INFO:tensorflow:loss = 246434560000.0, step = 3601 (0.552 sec)\n",
      "INFO:tensorflow:global_step/sec: 145.632\n",
      "INFO:tensorflow:loss = 141350190000.0, step = 3701 (0.684 sec)\n",
      "INFO:tensorflow:global_step/sec: 176.305\n",
      "INFO:tensorflow:loss = 49496453000.0, step = 3801 (0.564 sec)\n",
      "INFO:tensorflow:global_step/sec: 184.775\n",
      "INFO:tensorflow:loss = 86217834000.0, step = 3901 (0.549 sec)\n",
      "INFO:tensorflow:global_step/sec: 166.485\n",
      "INFO:tensorflow:loss = 109401194000.0, step = 4001 (0.593 sec)\n",
      "INFO:tensorflow:global_step/sec: 179.386\n",
      "INFO:tensorflow:loss = 96885600000.0, step = 4101 (0.561 sec)\n",
      "INFO:tensorflow:global_step/sec: 173.124\n",
      "INFO:tensorflow:loss = 18118120000.0, step = 4201 (0.576 sec)\n",
      "INFO:tensorflow:global_step/sec: 156.66\n",
      "INFO:tensorflow:loss = 98990330000.0, step = 4301 (0.645 sec)\n",
      "INFO:tensorflow:global_step/sec: 116.259\n",
      "INFO:tensorflow:loss = 38835773000.0, step = 4401 (0.859 sec)\n",
      "INFO:tensorflow:global_step/sec: 171.029\n",
      "INFO:tensorflow:loss = 45926154000.0, step = 4501 (0.576 sec)\n",
      "INFO:tensorflow:global_step/sec: 187.013\n",
      "INFO:tensorflow:loss = 39613790000.0, step = 4601 (0.552 sec)\n",
      "INFO:tensorflow:global_step/sec: 133.997\n",
      "INFO:tensorflow:loss = 46237470000.0, step = 4701 (0.730 sec)\n",
      "INFO:tensorflow:global_step/sec: 99.0928\n",
      "INFO:tensorflow:loss = 98381810000.0, step = 4801 (1.016 sec)\n",
      "INFO:tensorflow:global_step/sec: 104.276\n",
      "INFO:tensorflow:loss = 68407615000.0, step = 4901 (0.955 sec)\n",
      "INFO:tensorflow:global_step/sec: 175.442\n",
      "INFO:tensorflow:loss = 42194768000.0, step = 5001 (0.567 sec)\n",
      "INFO:tensorflow:global_step/sec: 178.339\n",
      "INFO:tensorflow:loss = 33379643000.0, step = 5101 (0.567 sec)\n",
      "INFO:tensorflow:global_step/sec: 133.004\n",
      "INFO:tensorflow:loss = 61266973000.0, step = 5201 (0.750 sec)\n",
      "INFO:tensorflow:global_step/sec: 160.667\n",
      "INFO:tensorflow:loss = 78919700000.0, step = 5301 (0.618 sec)\n",
      "INFO:tensorflow:global_step/sec: 158.521\n",
      "INFO:tensorflow:loss = 71059360000.0, step = 5401 (0.631 sec)\n",
      "INFO:tensorflow:global_step/sec: 168.964\n",
      "INFO:tensorflow:loss = 109186890000.0, step = 5501 (0.592 sec)\n",
      "INFO:tensorflow:global_step/sec: 183.282\n",
      "INFO:tensorflow:loss = 97195820000.0, step = 5601 (0.545 sec)\n",
      "INFO:tensorflow:global_step/sec: 163.245\n",
      "INFO:tensorflow:loss = 132158430000.0, step = 5701 (0.616 sec)\n",
      "INFO:tensorflow:global_step/sec: 169.38\n",
      "INFO:tensorflow:loss = 49227880000.0, step = 5801 (0.593 sec)\n",
      "INFO:tensorflow:global_step/sec: 180.008\n",
      "INFO:tensorflow:loss = 28708207000.0, step = 5901 (0.559 sec)\n",
      "INFO:tensorflow:global_step/sec: 172.564\n",
      "INFO:tensorflow:loss = 55767660000.0, step = 6001 (0.576 sec)\n",
      "INFO:tensorflow:global_step/sec: 184.549\n",
      "INFO:tensorflow:loss = 137360210000.0, step = 6101 (0.546 sec)\n",
      "INFO:tensorflow:global_step/sec: 176.523\n",
      "INFO:tensorflow:loss = 43050836000.0, step = 6201 (0.563 sec)\n",
      "INFO:tensorflow:global_step/sec: 182.035\n",
      "INFO:tensorflow:loss = 42815894000.0, step = 6301 (0.545 sec)\n",
      "INFO:tensorflow:global_step/sec: 171.063\n",
      "INFO:tensorflow:loss = 51367854000.0, step = 6401 (0.584 sec)\n",
      "INFO:tensorflow:global_step/sec: 183.938\n",
      "INFO:tensorflow:loss = 37314360000.0, step = 6501 (0.544 sec)\n",
      "INFO:tensorflow:global_step/sec: 174.064\n",
      "INFO:tensorflow:loss = 104394080000.0, step = 6601 (0.574 sec)\n",
      "INFO:tensorflow:global_step/sec: 174.003\n",
      "INFO:tensorflow:loss = 60654834000.0, step = 6701 (0.579 sec)\n",
      "INFO:tensorflow:global_step/sec: 182.217\n",
      "INFO:tensorflow:loss = 39723114000.0, step = 6801 (0.549 sec)\n",
      "INFO:tensorflow:global_step/sec: 172.098\n",
      "INFO:tensorflow:loss = 86100640000.0, step = 6901 (0.578 sec)\n",
      "INFO:tensorflow:global_step/sec: 183.554\n",
      "INFO:tensorflow:loss = 85324280000.0, step = 7001 (0.544 sec)\n",
      "INFO:tensorflow:global_step/sec: 172.902\n",
      "INFO:tensorflow:loss = 37279814000.0, step = 7101 (0.579 sec)\n",
      "INFO:tensorflow:global_step/sec: 193.053\n",
      "INFO:tensorflow:loss = 71235750000.0, step = 7201 (0.529 sec)\n",
      "INFO:tensorflow:global_step/sec: 180.57\n",
      "INFO:tensorflow:loss = 97145340000.0, step = 7301 (0.550 sec)\n",
      "INFO:tensorflow:global_step/sec: 168.517\n",
      "INFO:tensorflow:loss = 52734673000.0, step = 7401 (0.587 sec)\n",
      "INFO:tensorflow:global_step/sec: 165.608\n",
      "INFO:tensorflow:loss = 130553260000.0, step = 7501 (0.605 sec)\n",
      "INFO:tensorflow:global_step/sec: 183.483\n",
      "INFO:tensorflow:loss = 57314824000.0, step = 7601 (0.543 sec)\n",
      "INFO:tensorflow:global_step/sec: 186.074\n"
     ]
    },
    {
     "name": "stdout",
     "output_type": "stream",
     "text": [
      "INFO:tensorflow:loss = 198720400000.0, step = 7701 (0.542 sec)\n",
      "INFO:tensorflow:global_step/sec: 161.303\n",
      "INFO:tensorflow:loss = 69407015000.0, step = 7801 (0.615 sec)\n",
      "INFO:tensorflow:global_step/sec: 173.336\n",
      "INFO:tensorflow:loss = 56402272000.0, step = 7901 (0.577 sec)\n",
      "INFO:tensorflow:global_step/sec: 175.631\n",
      "INFO:tensorflow:loss = 21519413000.0, step = 8001 (0.573 sec)\n",
      "INFO:tensorflow:global_step/sec: 182.557\n",
      "INFO:tensorflow:loss = 33120313000.0, step = 8101 (0.545 sec)\n",
      "INFO:tensorflow:global_step/sec: 182.228\n",
      "INFO:tensorflow:loss = 37297060000.0, step = 8201 (0.552 sec)\n",
      "INFO:tensorflow:global_step/sec: 184.495\n",
      "INFO:tensorflow:loss = 99102330000.0, step = 8301 (0.538 sec)\n",
      "INFO:tensorflow:global_step/sec: 179.944\n",
      "INFO:tensorflow:loss = 21377229000.0, step = 8401 (0.556 sec)\n",
      "INFO:tensorflow:global_step/sec: 184.096\n",
      "INFO:tensorflow:loss = 59276394000.0, step = 8501 (0.547 sec)\n",
      "INFO:tensorflow:global_step/sec: 176.755\n",
      "INFO:tensorflow:loss = 128741230000.0, step = 8601 (0.562 sec)\n",
      "INFO:tensorflow:global_step/sec: 190.751\n",
      "INFO:tensorflow:loss = 31571460000.0, step = 8701 (0.536 sec)\n",
      "INFO:tensorflow:global_step/sec: 178.485\n",
      "INFO:tensorflow:loss = 85386100000.0, step = 8801 (0.551 sec)\n",
      "INFO:tensorflow:global_step/sec: 183.523\n",
      "INFO:tensorflow:loss = 95836240000.0, step = 8901 (0.546 sec)\n",
      "INFO:tensorflow:global_step/sec: 174.213\n",
      "INFO:tensorflow:loss = 83817144000.0, step = 9001 (0.570 sec)\n",
      "INFO:tensorflow:global_step/sec: 180.117\n",
      "INFO:tensorflow:loss = 27593437000.0, step = 9101 (0.568 sec)\n",
      "INFO:tensorflow:global_step/sec: 182.088\n",
      "INFO:tensorflow:loss = 62427970000.0, step = 9201 (0.548 sec)\n",
      "INFO:tensorflow:global_step/sec: 155.329\n",
      "INFO:tensorflow:loss = 60213846000.0, step = 9301 (0.636 sec)\n",
      "INFO:tensorflow:global_step/sec: 164.861\n",
      "INFO:tensorflow:loss = 54223008000.0, step = 9401 (0.603 sec)\n",
      "INFO:tensorflow:global_step/sec: 168.302\n",
      "INFO:tensorflow:loss = 19464282000.0, step = 9501 (0.594 sec)\n",
      "INFO:tensorflow:global_step/sec: 175.11\n",
      "INFO:tensorflow:loss = 57853410000.0, step = 9601 (0.576 sec)\n",
      "INFO:tensorflow:global_step/sec: 182.372\n",
      "INFO:tensorflow:loss = 183131910000.0, step = 9701 (0.552 sec)\n",
      "INFO:tensorflow:global_step/sec: 167.513\n",
      "INFO:tensorflow:loss = 45373000000.0, step = 9801 (0.588 sec)\n",
      "INFO:tensorflow:global_step/sec: 178.249\n",
      "INFO:tensorflow:loss = 50273673000.0, step = 9901 (0.565 sec)\n",
      "INFO:tensorflow:Saving checkpoints for 10000 into /tmp/tmpaw8ri3qy/model.ckpt.\n",
      "INFO:tensorflow:Loss for final step: 110532890000.0.\n"
     ]
    },
    {
     "data": {
      "text/plain": [
       "<tensorflow.python.estimator.canned.dnn.DNNRegressor at 0x7fc5549f0f28>"
      ]
     },
     "execution_count": 13,
     "metadata": {},
     "output_type": "execute_result"
    }
   ],
   "source": [
    "dnn_regressor.train(input_fn=train_function, steps=10000)"
   ]
  },
  {
   "cell_type": "code",
   "execution_count": 17,
   "metadata": {},
   "outputs": [],
   "source": [
    "y_pred = dnn_regressor.predict(input_fn=test_function)"
   ]
  },
  {
   "cell_type": "code",
   "execution_count": 18,
   "metadata": {},
   "outputs": [
    {
     "name": "stdout",
     "output_type": "stream",
     "text": [
      "INFO:tensorflow:Calling model_fn.\n",
      "INFO:tensorflow:Done calling model_fn.\n",
      "INFO:tensorflow:Graph was finalized.\n",
      "INFO:tensorflow:Restoring parameters from /tmp/tmpaw8ri3qy/model.ckpt-10000\n",
      "INFO:tensorflow:Running local_init_op.\n",
      "INFO:tensorflow:Done running local_init_op.\n"
     ]
    }
   ],
   "source": [
    "y_pred = list(y_pred)"
   ]
  },
  {
   "cell_type": "code",
   "execution_count": 20,
   "metadata": {},
   "outputs": [],
   "source": [
    "y_pred = [x[\"predictions\"] for x in y_pred]"
   ]
  },
  {
   "cell_type": "code",
   "execution_count": 25,
   "metadata": {},
   "outputs": [],
   "source": [
    "y_pred = np.array(y_pred)"
   ]
  },
  {
   "cell_type": "code",
   "execution_count": 28,
   "metadata": {},
   "outputs": [],
   "source": [
    "from sklearn.metrics import mean_squared_error"
   ]
  },
  {
   "cell_type": "code",
   "execution_count": 30,
   "metadata": {},
   "outputs": [],
   "source": [
    "mse = mean_squared_error(y_test, y_pred)"
   ]
  },
  {
   "cell_type": "code",
   "execution_count": 4,
   "metadata": {},
   "outputs": [
    {
     "name": "stdout",
     "output_type": "stream",
     "text": [
      "RMSE: 82857.51988108548\n"
     ]
    }
   ],
   "source": [
    "print(\"RMSE: {}\".format(mse**0.5))"
   ]
  }
 ],
 "metadata": {
  "kernelspec": {
   "display_name": "Python 3",
   "language": "python",
   "name": "python3"
  },
  "language_info": {
   "codemirror_mode": {
    "name": "ipython",
    "version": 3
   },
   "file_extension": ".py",
   "mimetype": "text/x-python",
   "name": "python",
   "nbconvert_exporter": "python",
   "pygments_lexer": "ipython3",
   "version": "3.6.3"
  }
 },
 "nbformat": 4,
 "nbformat_minor": 2
}
