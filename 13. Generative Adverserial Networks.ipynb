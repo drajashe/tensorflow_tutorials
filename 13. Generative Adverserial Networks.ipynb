{
  "nbformat": 4,
  "nbformat_minor": 0,
  "metadata": {
    "colab": {
      "name": "Generative Adverserial Networks.ipynb",
      "version": "0.3.2",
      "views": {},
      "default_view": {},
      "provenance": []
    },
    "kernelspec": {
      "name": "python3",
      "display_name": "Python 3"
    },
    "accelerator": "GPU"
  },
  "cells": [
    {
      "metadata": {
        "id": "o7tBG-FmHnOG",
        "colab_type": "code",
        "colab": {
          "autoexec": {
            "startup": false,
            "wait_interval": 0
          }
        }
      },
      "cell_type": "code",
      "source": [
        "import tensorflow as tf\n",
        "import matplotlib.pyplot as plt\n",
        "import numpy as np\n",
        "%matplotlib inline\n",
        "\n",
        "from tensorflow.examples.tutorials.mnist import input_data"
      ],
      "execution_count": 0,
      "outputs": []
    },
    {
      "metadata": {
        "id": "f7faCe1YHtXg",
        "colab_type": "code",
        "colab": {
          "autoexec": {
            "startup": false,
            "wait_interval": 0
          },
          "output_extras": [
            {
              "item_id": 2
            }
          ],
          "base_uri": "https://localhost:8080/",
          "height": 156
        },
        "outputId": "3b1ea4ad-f3af-4bb0-f747-abef71c945e1",
        "executionInfo": {
          "status": "ok",
          "timestamp": 1522566447968,
          "user_tz": -330,
          "elapsed": 2760,
          "user": {
            "displayName": "Mayur Kulkarni",
            "photoUrl": "https://lh3.googleusercontent.com/a/default-user=s128",
            "userId": "116301151646646358552"
          }
        }
      },
      "cell_type": "code",
      "source": [
        "mnist = input_data.read_data_sets(\".\", one_hot=True)"
      ],
      "execution_count": 2,
      "outputs": [
        {
          "output_type": "stream",
          "text": [
            "Successfully downloaded train-images-idx3-ubyte.gz 9912422 bytes.\n",
            "Extracting ./train-images-idx3-ubyte.gz\n",
            "Successfully downloaded train-labels-idx1-ubyte.gz 28881 bytes.\n",
            "Extracting ./train-labels-idx1-ubyte.gz\n",
            "Successfully downloaded t10k-images-idx3-ubyte.gz 1648877 bytes.\n",
            "Extracting ./t10k-images-idx3-ubyte.gz\n",
            "Successfully downloaded t10k-labels-idx1-ubyte.gz 4542 bytes.\n",
            "Extracting ./t10k-labels-idx1-ubyte.gz\n"
          ],
          "name": "stdout"
        }
      ]
    },
    {
      "metadata": {
        "id": "42pK6mhjIXgH",
        "colab_type": "code",
        "colab": {
          "autoexec": {
            "startup": false,
            "wait_interval": 0
          },
          "output_extras": [
            {
              "item_id": 1
            },
            {
              "item_id": 2
            }
          ],
          "base_uri": "https://localhost:8080/",
          "height": 282
        },
        "outputId": "1532ef0a-f779-4d5e-d69a-9e2adbc35814",
        "executionInfo": {
          "status": "ok",
          "timestamp": 1522566449538,
          "user_tz": -330,
          "elapsed": 1026,
          "user": {
            "displayName": "Mayur Kulkarni",
            "photoUrl": "https://lh3.googleusercontent.com/a/default-user=s128",
            "userId": "116301151646646358552"
          }
        }
      },
      "cell_type": "code",
      "source": [
        "plt.figure().gca().grid(False)\n",
        "plt.imshow(mnist.train.images[12].reshape(28, 28), cmap=\"Greys\")"
      ],
      "execution_count": 3,
      "outputs": [
        {
          "output_type": "execute_result",
          "data": {
            "text/plain": [
              "<matplotlib.image.AxesImage at 0x7f8e3c476668>"
            ]
          },
          "metadata": {
            "tags": []
          },
          "execution_count": 3
        },
        {
          "output_type": "display_data",
          "data": {
            "image/png": "[encoded data removed]",
            "text/plain": [
              "<matplotlib.figure.Figure at 0x7f8e3c476390>"
            ]
          },
          "metadata": {
            "tags": []
          }
        }
      ]
    },
    {
      "metadata": {
        "id": "ZZ8XEIiKIckH",
        "colab_type": "code",
        "colab": {
          "autoexec": {
            "startup": false,
            "wait_interval": 0
          }
        }
      },
      "cell_type": "code",
      "source": [
        "def discriminator(images, reuse=False):\n",
        "    if reuse:\n",
        "        tf.get_variable_scope().reuse_variables()\n",
        "\n",
        "    ####################### Convolutional Layer 1 ##############################\n",
        "    d_w1 = tf.get_variable(\"d_w1\", [5, 5, 1, 32],\n",
        "                       initializer=tf.truncated_normal_initializer(stddev=0.02))\n",
        "    d_b1 = tf.get_variable(\"d_b1\", [32],\n",
        "                           initializer=tf.constant_initializer(0))\n",
        "    d1 = tf.nn.conv2d(input=images, filter=d_w1, strides=[1, 1, 1, 1],\n",
        "                      padding=\"SAME\")\n",
        "    d1 = d1 + d_b1\n",
        "    d1 = tf.nn.relu(d1)\n",
        "    d1 = tf.nn.avg_pool(d1, ksize=[1, 2, 2, 1], strides=[1, 2, 2, 1],\n",
        "                        padding=\"SAME\")\n",
        "\n",
        "    ####################### Convolutional Layer 2 ##############################\n",
        "    d_w2 = tf.get_variable(\"d_w2\", [5, 5, 32, 64],\n",
        "                       initializer=tf.truncated_normal_initializer(stddev=0.02))\n",
        "    d_b2 = tf.get_variable(\"d_b2\", [64],\n",
        "                           initializer=tf.constant_initializer(0))\n",
        "    d2 = tf.nn.conv2d(input=d1, filter=d_w2, strides=[1, 1, 1, 1],\n",
        "                      padding=\"SAME\")\n",
        "    d2 = d2 + d_b2\n",
        "    d2 = tf.nn.relu(d2)\n",
        "    d2 = tf.nn.avg_pool(d2, ksize=[1, 2, 2, 1], strides=[1, 2, 2, 1],\n",
        "                        padding=\"SAME\")\n",
        "    \n",
        "    ########################### Dense Layer 1 ##################################\n",
        "    d_w3 = tf.get_variable(\"d_w3\", [7 * 7 * 64, 1024],\n",
        "                       initializer=tf.truncated_normal_initializer(stddev=0.02))\n",
        "    d_b3 = tf.get_variable(\"d_b3\", [1024],\n",
        "                            initializer=tf.constant_initializer(0))\n",
        "    # flatten\n",
        "    d3 = tf.reshape(d2, [-1, 7 * 7 * 64])\n",
        "    d3 = tf.matmul(d3, d_w3) + d_b3\n",
        "    d3 = tf.nn.relu(d3)\n",
        "    \n",
        "    ########################### Dense Layer 2 ##################################\n",
        "    d_w4 = tf.get_variable(\"d_w4\", [1024, 1],\n",
        "                       initializer=tf.truncated_normal_initializer(stddev=0.02))\n",
        "    d_b4 = tf.get_variable(\"d_b4\", [1],\n",
        "                            initializer=tf.constant_initializer(0))\n",
        "    d4 = tf.matmul(d3, d_w4) + d_b4\n",
        "    # this is unscaled, so it's not probability or something\n",
        "    return d4"
      ],
      "execution_count": 0,
      "outputs": []
    },
    {
      "metadata": {
        "id": "Vr9A8w-lZXDH",
        "colab_type": "code",
        "colab": {
          "autoexec": {
            "startup": false,
            "wait_interval": 0
          }
        }
      },
      "cell_type": "code",
      "source": [
        "def generator(z, batch_size, z_dim):\n",
        "    \"\"\" Takes in random values, and generates images \"\"\"\n",
        "    ################### Dense Layer 1 + Batch Normalization ####################\n",
        "    g_w1 = tf.get_variable(\"g_w1\", [z_dim, 3136], dtype=tf.float32,\n",
        "                    initializer=tf.truncated_normal_initializer(stddev=0.02))\n",
        "    g_b1 = tf.get_variable(\"g_b1\", [3136],\n",
        "                    initializer=tf.truncated_normal_initializer(stddev=0.02))\n",
        "    g1 = tf.matmul(z, g_w1) + g_b1\n",
        "    g1 = tf.reshape(g1, [-1, 56, 56, 1])\n",
        "    g1 = tf.contrib.layers.batch_norm(g1, epsilon=1e-5, scope=\"bn1\")\n",
        "    g1 = tf.nn.relu(g1)\n",
        "\n",
        "    ############## Convolutional Layer 1  + Batch Normalization ################\n",
        "\n",
        "    g_w2 = tf.get_variable(\"g_w2\", [3, 3, 1, z_dim/2], dtype=tf.float32,\n",
        "                    initializer=tf.truncated_normal_initializer(stddev=0.02))\n",
        "    g_b2 = tf.get_variable(\"g_b2\", [z_dim/2],\n",
        "                    initializer=tf.truncated_normal_initializer(stddev=0.02))\n",
        "    g2 = tf.nn.conv2d(g1, g_w2, strides=[1, 2, 2, 1], padding=\"SAME\")\n",
        "    g2 = g2 + g_b2\n",
        "    g2 = tf.contrib.layers.batch_norm(g2, epsilon=1e-5, scope=\"bn2\")\n",
        "    g2 = tf.nn.relu(g2)\n",
        "    g2 = tf.image.resize_images(g2, [56, 56])\n",
        "\n",
        "    ############## Convolutional Layer 2  + Batch Normalization ################\n",
        "    g_w3 = tf.get_variable(\"g_w3\", [3, 3, z_dim/2, z_dim/4], dtype=tf.float32,\n",
        "                    initializer=tf.truncated_normal_initializer(stddev=0.02))\n",
        "    g_b3 = tf.get_variable(\"g_b3\", [z_dim/4],\n",
        "                    initializer=tf.truncated_normal_initializer(stddev=0.02))\n",
        "    g3 = tf.nn.conv2d(g2, g_w3, strides=[1, 2, 2, 1], padding=\"SAME\")\n",
        "    g3 = g3 + g_b3\n",
        "    g3 = tf.contrib.layers.batch_norm(g3, epsilon=1e-5, scope=\"bn3\")\n",
        "    g3 = tf.nn.relu(g3)\n",
        "    g3 = tf.image.resize_images(g3, [56, 56])\n",
        "\n",
        "    ############## Convolutional Layer 3  + Batch Normalization ################\n",
        "    g_w4 = tf.get_variable(\"g_w4\", [1, 1, z_dim/4, 1], dtype=tf.float32,\n",
        "                    initializer=tf.truncated_normal_initializer(stddev=0.02))\n",
        "    g_b4 = tf.get_variable(\"g_b4\", [1],\n",
        "                    initializer=tf.truncated_normal_initializer(stddev=0.02))\n",
        "    g4 = tf.nn.conv2d(g3, g_w4, strides=[1, 2, 2, 1], padding=\"SAME\")\n",
        "    g4 = g4 + g_b4\n",
        "    # output dimensions: batch_size x 28 x 28 x 1\n",
        "    # the reason we're taking sigmoid is to have crispier image\n",
        "    g4 = tf.nn.sigmoid(g4)\n",
        "    return g4"
      ],
      "execution_count": 0,
      "outputs": []
    },
    {
      "metadata": {
        "id": "tgQBG8WrZac9",
        "colab_type": "code",
        "colab": {
          "autoexec": {
            "startup": false,
            "wait_interval": 0
          },
          "output_extras": [
            {
              "item_id": 1
            }
          ],
          "base_uri": "https://localhost:8080/",
          "height": 265
        },
        "outputId": "b966df9a-e26a-468c-e4d5-fdd83208dae7",
        "executionInfo": {
          "status": "ok",
          "timestamp": 1522566458008,
          "user_tz": -330,
          "elapsed": 2846,
          "user": {
            "displayName": "Mayur Kulkarni",
            "photoUrl": "https://lh3.googleusercontent.com/a/default-user=s128",
            "userId": "116301151646646358552"
          }
        }
      },
      "cell_type": "code",
      "source": [
        "def print_random_image():\n",
        "    z_dimensions = 100\n",
        "    z_placeholder = tf.placeholder(tf.float32, shape=[None, z_dimensions])\n",
        "    noisy_image = generator(z_placeholder, 1, z_dimensions)\n",
        "    z_batch = np.random.normal(0, 1, [1, z_dimensions])\n",
        "    with tf.Session() as sess:\n",
        "        sess.run(tf.global_variables_initializer())\n",
        "        generated_image = sess.run(noisy_image, feed_dict={z_placeholder: z_batch})\n",
        "        generated_image = generated_image.reshape([28, 28])\n",
        "        plt.imshow(generated_image, cmap=\"Greys\")\n",
        "print_random_image()"
      ],
      "execution_count": 6,
      "outputs": [
        {
          "output_type": "display_data",
          "data": {
            "image/png": "[encoded data removed]",
            "text/plain": [
              "<matplotlib.figure.Figure at 0x7f8e3bf93dd8>"
            ]
          },
          "metadata": {
            "tags": []
          }
        }
      ]
    },
    {
      "metadata": {
        "id": "kZGs0Id_akJ7",
        "colab_type": "code",
        "colab": {
          "autoexec": {
            "startup": false,
            "wait_interval": 0
          }
        }
      },
      "cell_type": "code",
      "source": [
        "tf.reset_default_graph()"
      ],
      "execution_count": 0,
      "outputs": []
    },
    {
      "metadata": {
        "id": "5RKgG_ACesN6",
        "colab_type": "code",
        "colab": {
          "autoexec": {
            "startup": false,
            "wait_interval": 0
          }
        }
      },
      "cell_type": "code",
      "source": [
        "# Setup Training\n",
        "z_dimensions = 100\n",
        "batch_size = 50\n",
        "# z_placeholder is for feeding in the noise to the GAN\n",
        "z_placeholder = tf.placeholder(tf.float32, shape=[None, z_dimensions],\n",
        "                               name=\"z_placeholder\")\n",
        "# x_placeholder will feed any image to the disciminator. It can be\n",
        "# from MNIST database, or from our generator function.\n",
        "x_placeholder = tf.placeholder(tf.float32, shape=[None, 28, 28, 1],\n",
        "                               name=\"x_placeholder\")\n",
        "# Gz will hold the newly generated images from generator\n",
        "Gz = generator(z_placeholder, batch_size, z_dimensions)\n",
        "# Dx will hold the probabilities of the actual MNIST images\n",
        "\n",
        "# Dg will hold the probabilities of the new generated images\n",
        "Dg = discriminator(Gz)\n",
        "Dx = discriminator(x_placeholder, reuse=True)"
      ],
      "execution_count": 0,
      "outputs": []
    },
    {
      "metadata": {
        "id": "aFza9yaNlf1K",
        "colab_type": "code",
        "colab": {
          "autoexec": {
            "startup": false,
            "wait_interval": 0
          }
        }
      },
      "cell_type": "code",
      "source": [
        "# Discriminator Loss\n",
        "d_loss_real = tf.reduce_mean(tf.nn\n",
        "                    .sigmoid_cross_entropy_with_logits(logits=Dx, \n",
        "                                                       labels=tf.ones_like(Dx)))\n",
        "d_loss_fake = tf.reduce_mean(tf.nn\n",
        "                    .sigmoid_cross_entropy_with_logits(logits=Dg,\n",
        "                                                       labels=tf.zeros_like(Dg)))"
      ],
      "execution_count": 0,
      "outputs": []
    },
    {
      "metadata": {
        "id": "E_iqMzQ-pYWS",
        "colab_type": "code",
        "colab": {
          "autoexec": {
            "startup": false,
            "wait_interval": 0
          }
        }
      },
      "cell_type": "code",
      "source": [
        "# Generator Loss\n",
        "g_loss = tf.reduce_mean(tf.nn\n",
        "                     .sigmoid_cross_entropy_with_logits(logits=Dg,\n",
        "                                                       labels=tf.ones_like(Dg)))"
      ],
      "execution_count": 0,
      "outputs": []
    },
    {
      "metadata": {
        "id": "pw99rDvBrOfI",
        "colab_type": "code",
        "colab": {
          "autoexec": {
            "startup": false,
            "wait_interval": 0
          },
          "output_extras": [
            {
              "item_id": 1
            }
          ],
          "base_uri": "https://localhost:8080/",
          "height": 52
        },
        "outputId": "61f27f9b-84eb-4891-f683-1dbb393bae21",
        "executionInfo": {
          "status": "ok",
          "timestamp": 1522566466494,
          "user_tz": -330,
          "elapsed": 1108,
          "user": {
            "displayName": "Mayur Kulkarni",
            "photoUrl": "https://lh3.googleusercontent.com/a/default-user=s128",
            "userId": "116301151646646358552"
          }
        }
      },
      "cell_type": "code",
      "source": [
        "# While training Generator, we want to keep the Discriminator variables\n",
        "# constant. And same goes for training Discriminator\n",
        "\n",
        "tvars = tf.trainable_variables()\n",
        "d_vars = [var for var in tvars if \"d_\" in var.name]\n",
        "g_vars = [var for var in tvars if \"g_\" in var.name]\n",
        "\n",
        "print(\"Discriminator vars: {}\".format([var.name for var in d_vars]))\n",
        "print(\"Generator vars: {}\".format([var.name for var in g_vars]))"
      ],
      "execution_count": 11,
      "outputs": [
        {
          "output_type": "stream",
          "text": [
            "Discriminator vars: ['d_w1:0', 'd_b1:0', 'd_w2:0', 'd_b2:0', 'd_w3:0', 'd_b3:0', 'd_w4:0', 'd_b4:0']\n",
            "Generator vars: ['g_w1:0', 'g_b1:0', 'g_w2:0', 'g_b2:0', 'g_w3:0', 'g_b3:0', 'g_w4:0', 'g_b4:0']\n"
          ],
          "name": "stdout"
        }
      ]
    },
    {
      "metadata": {
        "id": "vdxCXQ82sdKb",
        "colab_type": "code",
        "colab": {
          "autoexec": {
            "startup": false,
            "wait_interval": 0
          }
        }
      },
      "cell_type": "code",
      "source": [
        "# Train the Discriminator\n",
        "with tf.variable_scope(tf.get_variable_scope(),reuse=tf.AUTO_REUSE): \n",
        "    d_trainer_real = tf.train.AdamOptimizer(learning_rate=0.0003) \\\n",
        "                             .minimize(d_loss_real, var_list=d_vars)\n",
        "\n",
        "    d_trainer_fake = tf.train.AdamOptimizer(learning_rate=0.0003) \\\n",
        "                             .minimize(d_loss_fake, var_list=d_vars)\n",
        "\n",
        "    # Train the Generator\n",
        "    g_trainer = tf.train.AdamOptimizer(learning_rate=0.0001) \\\n",
        "                        .minimize(g_loss, var_list=g_vars)"
      ],
      "execution_count": 0,
      "outputs": []
    },
    {
      "metadata": {
        "id": "QJE6XwfMtSyX",
        "colab_type": "code",
        "colab": {
          "autoexec": {
            "startup": false,
            "wait_interval": 0
          }
        }
      },
      "cell_type": "code",
      "source": [
        "saver = tf.train.Saver()"
      ],
      "execution_count": 0,
      "outputs": []
    },
    {
      "metadata": {
        "id": "Rt_HRi-Rl4zF",
        "colab_type": "code",
        "colab": {
          "autoexec": {
            "startup": false,
            "wait_interval": 0
          },
          "output_extras": [
            {
              "item_id": 20
            }
          ],
          "base_uri": "https://localhost:8080/",
          "height": 364
        },
        "outputId": "2037fca6-e8d0-401d-cdfc-be0015a6abe7",
        "executionInfo": {
          "status": "ok",
          "timestamp": 1522566536428,
          "user_tz": -330,
          "elapsed": 24828,
          "user": {
            "displayName": "Mayur Kulkarni",
            "photoUrl": "https://lh3.googleusercontent.com/a/default-user=s128",
            "userId": "116301151646646358552"
          }
        }
      },
      "cell_type": "code",
      "source": [
        "init = tf.global_variables_initializer()\n",
        "with tf.Session() as sess:\n",
        "    # Train Discriminator first\n",
        "    sess.run(init)\n",
        "#     saver.restore(sess, \"/content/gan/model\")\n",
        "    for i in range(1000):\n",
        "        z_batch = np.random.normal(0, 1, size=[batch_size, z_dimensions])\n",
        "        real_image_batch = mnist.train.next_batch(batch_size)[0] \\\n",
        "                                      .reshape([batch_size, 28, 28, 1])\n",
        "        _, _, d_loss_real_val, d_loss_fake_val = \\\n",
        "                sess.run([d_trainer_real, d_trainer_fake, d_loss_real, \n",
        "                          d_loss_fake],\n",
        "                         feed_dict={x_placeholder: real_image_batch,\n",
        "                                    z_placeholder: z_batch})\n",
        "        if i % 50 == 0:\n",
        "            print(\"Iteration: {0} \\tLoss Real: {1:.5f}\\tLoss Fake: {2:.5f}\"\n",
        "                       .format(i, d_loss_real_val, d_loss_fake_val))\n",
        "    saver.save(sess, \"/content/gan/model\")"
      ],
      "execution_count": 17,
      "outputs": [
        {
          "output_type": "stream",
          "text": [
            "Iteration: 0 \tLoss Real: 0.69308\tLoss Fake: 0.70976\n",
            "Iteration: 50 \tLoss Real: 0.30527\tLoss Fake: 0.77538\n",
            "Iteration: 100 \tLoss Real: 0.03286\tLoss Fake: 0.08415\n",
            "Iteration: 150 \tLoss Real: 0.00802\tLoss Fake: 0.02482\n",
            "Iteration: 200 \tLoss Real: 0.00065\tLoss Fake: 0.00038\n",
            "Iteration: 250 \tLoss Real: 0.00034\tLoss Fake: 0.00027\n",
            "Iteration: 300 \tLoss Real: 0.00187\tLoss Fake: 0.00017\n",
            "Iteration: 350 \tLoss Real: 0.00008\tLoss Fake: 0.00012\n",
            "Iteration: 400 \tLoss Real: 0.00009\tLoss Fake: 0.00011\n",
            "Iteration: 450 \tLoss Real: 0.00043\tLoss Fake: 0.00011\n",
            "Iteration: 500 \tLoss Real: 0.00009\tLoss Fake: 0.00007\n",
            "Iteration: 550 \tLoss Real: 0.00003\tLoss Fake: 0.00007\n",
            "Iteration: 600 \tLoss Real: 0.00009\tLoss Fake: 0.00006\n",
            "Iteration: 650 \tLoss Real: 0.00002\tLoss Fake: 0.00004\n",
            "Iteration: 700 \tLoss Real: 0.00005\tLoss Fake: 0.00003\n",
            "Iteration: 750 \tLoss Real: 0.00005\tLoss Fake: 0.00003\n",
            "Iteration: 800 \tLoss Real: 0.00008\tLoss Fake: 0.00004\n",
            "Iteration: 850 \tLoss Real: 0.00001\tLoss Fake: 0.00003\n",
            "Iteration: 900 \tLoss Real: 0.00001\tLoss Fake: 0.00002\n",
            "Iteration: 950 \tLoss Real: 0.00002\tLoss Fake: 0.00004\n"
          ],
          "name": "stdout"
        }
      ]
    },
    {
      "metadata": {
        "id": "SBct9YYEpLEK",
        "colab_type": "code",
        "colab": {
          "autoexec": {
            "startup": false,
            "wait_interval": 0
          },
          "output_extras": [
            {
              "item_id": 53
            },
            {
              "item_id": 101
            }
          ],
          "base_uri": "https://localhost:8080/",
          "height": 1771
        },
        "outputId": "b57eda6b-6695-4ebc-83f4-39dc98f326f8",
        "executionInfo": {
          "status": "ok",
          "timestamp": 1522573216932,
          "user_tz": -330,
          "elapsed": 5307638,
          "user": {
            "displayName": "Mayur Kulkarni",
            "photoUrl": "https://lh3.googleusercontent.com/a/default-user=s128",
            "userId": "116301151646646358552"
          }
        }
      },
      "cell_type": "code",
      "source": [
        "# Train generator and discriminator at the same\n",
        "with tf.Session() as sess:\n",
        "    steps = 100000\n",
        "    saver.restore(sess, \"/content/gan/model\")\n",
        "    for i in range(steps):\n",
        "        real_image_batch = mnist.train.next_batch(batch_size)[0] \\\n",
        "                                      .reshape([-1, 28, 28, 1])\n",
        "        # Train Discriminator\n",
        "        z_batch = np.random.normal(0, 1, size=[batch_size, z_dimensions])\n",
        "        _, _, d_loss_real_val, d_loss_fake_val = \\\n",
        "            sess.run(\n",
        "                [d_trainer_real, d_trainer_fake, d_loss_real, d_loss_fake],\n",
        "                feed_dict={x_placeholder: real_image_batch, \n",
        "                           z_placeholder: z_batch}\n",
        "            )\n",
        "        # Train Generator\n",
        "        z_batch = np.random.normal(0, 1, size=[batch_size, z_dimensions])\n",
        "        _, g_loss_val = sess.run([g_trainer, g_loss], \n",
        "                                 feed_dict={z_placeholder: z_batch})\n",
        "\n",
        "        # Debug info\n",
        "        if i % 1000 == 0:\n",
        "            print(\"Iteration: {0}\\tDLoss Real: {1:.4f}\\tDLoss Fake: {2:.4f}\"\n",
        "                  \"\\tGLoss: {3:.4f}\".format(i, d_loss_real_val, d_loss_fake_val,\n",
        "                                           g_loss_val))\n",
        "    saver.save(sess, \"/content/gan/model\")\n",
        "    "
      ],
      "execution_count": 27,
      "outputs": [
        {
          "output_type": "stream",
          "text": [
            "INFO:tensorflow:Restoring parameters from /content/gan/model\n",
            "Iteration: 0\tDLoss Real: 0.0274\tDLoss Fake: 3.5510\tGLoss: 6.4086\n",
            "Iteration: 1000\tDLoss Real: 0.3001\tDLoss Fake: 4.8100\tGLoss: 1.3463\n",
            "Iteration: 2000\tDLoss Real: 0.0001\tDLoss Fake: 11.8316\tGLoss: 0.2900\n",
            "Iteration: 3000\tDLoss Real: 7.5022\tDLoss Fake: 0.0012\tGLoss: 2.1869\n",
            "Iteration: 4000\tDLoss Real: 1.7415\tDLoss Fake: 1.0484\tGLoss: 2.3957\n",
            "Iteration: 5000\tDLoss Real: 4.0374\tDLoss Fake: 0.6165\tGLoss: 1.9592\n",
            "Iteration: 6000\tDLoss Real: 0.2387\tDLoss Fake: 2.6595\tGLoss: 6.1472\n",
            "Iteration: 7000\tDLoss Real: 1.0244\tDLoss Fake: 7.2106\tGLoss: 2.8867\n",
            "Iteration: 8000\tDLoss Real: 0.6583\tDLoss Fake: 8.4785\tGLoss: 2.7842\n",
            "Iteration: 9000\tDLoss Real: 0.6970\tDLoss Fake: 6.2023\tGLoss: 6.7081\n",
            "Iteration: 10000\tDLoss Real: 3.8503\tDLoss Fake: 3.5546\tGLoss: 0.1147\n",
            "Iteration: 11000\tDLoss Real: 3.2922\tDLoss Fake: 4.9207\tGLoss: 0.4871\n",
            "Iteration: 12000\tDLoss Real: 4.9237\tDLoss Fake: 4.3103\tGLoss: 2.2280\n",
            "Iteration: 13000\tDLoss Real: 23.5717\tDLoss Fake: 0.0315\tGLoss: 3.8023\n",
            "Iteration: 14000\tDLoss Real: 2.0862\tDLoss Fake: 12.6701\tGLoss: 5.0122\n",
            "Iteration: 15000\tDLoss Real: 15.0659\tDLoss Fake: 3.7373\tGLoss: 1.9332\n",
            "Iteration: 16000\tDLoss Real: 9.8914\tDLoss Fake: 0.7287\tGLoss: 0.8998\n",
            "Iteration: 17000\tDLoss Real: 4.3618\tDLoss Fake: 9.1421\tGLoss: 4.6114\n",
            "Iteration: 18000\tDLoss Real: 4.2844\tDLoss Fake: 4.9853\tGLoss: 1.0283\n",
            "Iteration: 19000\tDLoss Real: 5.5525\tDLoss Fake: 2.4970\tGLoss: 5.1407\n",
            "Iteration: 20000\tDLoss Real: 16.2098\tDLoss Fake: 0.3511\tGLoss: 0.8197\n",
            "Iteration: 21000\tDLoss Real: 5.4837\tDLoss Fake: 1.0383\tGLoss: 11.8822\n",
            "Iteration: 22000\tDLoss Real: 9.5747\tDLoss Fake: 2.8820\tGLoss: 0.7144\n",
            "Iteration: 23000\tDLoss Real: 7.0495\tDLoss Fake: 2.7621\tGLoss: 1.0811\n",
            "Iteration: 24000\tDLoss Real: 6.7989\tDLoss Fake: 3.1962\tGLoss: 0.7361\n",
            "Iteration: 25000\tDLoss Real: 2.9073\tDLoss Fake: 10.8696\tGLoss: 4.8520\n",
            "Iteration: 26000\tDLoss Real: 9.8931\tDLoss Fake: 6.6837\tGLoss: 4.4423\n",
            "Iteration: 27000\tDLoss Real: 6.0371\tDLoss Fake: 7.8184\tGLoss: 4.2022\n",
            "Iteration: 28000\tDLoss Real: 15.9837\tDLoss Fake: 4.4098\tGLoss: 1.9826\n",
            "Iteration: 29000\tDLoss Real: 1.4118\tDLoss Fake: 22.2941\tGLoss: 0.9832\n",
            "Iteration: 30000\tDLoss Real: 11.9329\tDLoss Fake: 5.1703\tGLoss: 0.9131\n",
            "Iteration: 31000\tDLoss Real: 7.3483\tDLoss Fake: 11.7756\tGLoss: 11.5158\n",
            "Iteration: 32000\tDLoss Real: 16.6020\tDLoss Fake: 4.6569\tGLoss: 7.8097\n",
            "Iteration: 33000\tDLoss Real: 2.7698\tDLoss Fake: 21.4481\tGLoss: 3.0893\n",
            "Iteration: 34000\tDLoss Real: 2.0851\tDLoss Fake: 22.9645\tGLoss: 2.3089\n",
            "Iteration: 35000\tDLoss Real: 7.3659\tDLoss Fake: 13.8369\tGLoss: 0.6552\n",
            "Iteration: 36000\tDLoss Real: 10.3683\tDLoss Fake: 7.6859\tGLoss: 4.6692\n",
            "Iteration: 37000\tDLoss Real: 14.8475\tDLoss Fake: 6.0724\tGLoss: 3.9881\n",
            "Iteration: 38000\tDLoss Real: 4.8811\tDLoss Fake: 11.7319\tGLoss: 4.6849\n",
            "Iteration: 39000\tDLoss Real: 13.3628\tDLoss Fake: 3.5837\tGLoss: 6.8129\n",
            "Iteration: 40000\tDLoss Real: 16.2911\tDLoss Fake: 8.2786\tGLoss: 0.5563\n",
            "Iteration: 41000\tDLoss Real: 5.6291\tDLoss Fake: 16.3329\tGLoss: 6.1328\n",
            "Iteration: 42000\tDLoss Real: 14.7407\tDLoss Fake: 4.6149\tGLoss: 9.5094\n",
            "Iteration: 43000\tDLoss Real: 4.4418\tDLoss Fake: 14.1768\tGLoss: 4.0872\n",
            "Iteration: 44000\tDLoss Real: 9.1299\tDLoss Fake: 7.7418\tGLoss: 5.1835\n",
            "Iteration: 45000\tDLoss Real: 21.2754\tDLoss Fake: 4.7607\tGLoss: 3.6745\n",
            "Iteration: 46000\tDLoss Real: 10.9355\tDLoss Fake: 12.4470\tGLoss: 9.8953\n",
            "Iteration: 47000\tDLoss Real: 6.9167\tDLoss Fake: 19.8065\tGLoss: 5.0337\n",
            "Iteration: 48000\tDLoss Real: 9.4195\tDLoss Fake: 17.5033\tGLoss: 1.0260\n",
            "Iteration: 49000\tDLoss Real: 16.1238\tDLoss Fake: 9.9893\tGLoss: 6.4204\n",
            "Iteration: 50000\tDLoss Real: 17.1595\tDLoss Fake: 7.1201\tGLoss: 1.5500\n",
            "Iteration: 51000\tDLoss Real: 8.7693\tDLoss Fake: 29.7105\tGLoss: 0.0000\n"
          ],
          "name": "stdout"
        },
        {
          "output_type": "stream",
          "text": [
            "Iteration: 52000\tDLoss Real: 21.1157\tDLoss Fake: 5.5879\tGLoss: 1.3915\n",
            "Iteration: 53000\tDLoss Real: 7.5539\tDLoss Fake: 20.7839\tGLoss: 2.6277\n",
            "Iteration: 54000\tDLoss Real: 4.9874\tDLoss Fake: 34.1384\tGLoss: 1.1870\n",
            "Iteration: 55000\tDLoss Real: 3.4666\tDLoss Fake: 34.5087\tGLoss: 8.3575\n",
            "Iteration: 56000\tDLoss Real: 25.1974\tDLoss Fake: 12.5859\tGLoss: 5.3906\n",
            "Iteration: 57000\tDLoss Real: 27.1813\tDLoss Fake: 14.4489\tGLoss: 4.2580\n",
            "Iteration: 58000\tDLoss Real: 17.6728\tDLoss Fake: 19.9264\tGLoss: 9.2541\n",
            "Iteration: 59000\tDLoss Real: 19.6593\tDLoss Fake: 17.6911\tGLoss: 2.5688\n",
            "Iteration: 60000\tDLoss Real: 26.1740\tDLoss Fake: 9.4944\tGLoss: 9.2890\n",
            "Iteration: 61000\tDLoss Real: 20.0087\tDLoss Fake: 14.4073\tGLoss: 3.5832\n",
            "Iteration: 62000\tDLoss Real: 18.1446\tDLoss Fake: 17.8708\tGLoss: 1.4620\n",
            "Iteration: 63000\tDLoss Real: 18.1176\tDLoss Fake: 20.5427\tGLoss: 3.9803\n",
            "Iteration: 64000\tDLoss Real: 13.6793\tDLoss Fake: 33.1709\tGLoss: 1.0754\n",
            "Iteration: 65000\tDLoss Real: 15.2692\tDLoss Fake: 23.2309\tGLoss: 1.2370\n",
            "Iteration: 66000\tDLoss Real: 15.0713\tDLoss Fake: 26.7671\tGLoss: 2.1792\n",
            "Iteration: 67000\tDLoss Real: 27.5811\tDLoss Fake: 11.8021\tGLoss: 20.5527\n",
            "Iteration: 68000\tDLoss Real: 35.0068\tDLoss Fake: 7.6611\tGLoss: 7.9373\n",
            "Iteration: 69000\tDLoss Real: 5.4202\tDLoss Fake: 49.1444\tGLoss: 8.3642\n",
            "Iteration: 70000\tDLoss Real: 23.3354\tDLoss Fake: 15.3683\tGLoss: 6.0408\n",
            "Iteration: 71000\tDLoss Real: 12.4735\tDLoss Fake: 39.4065\tGLoss: 0.7858\n",
            "Iteration: 72000\tDLoss Real: 22.7163\tDLoss Fake: 13.0334\tGLoss: 4.8138\n",
            "Iteration: 73000\tDLoss Real: 22.2810\tDLoss Fake: 20.2573\tGLoss: 4.0959\n",
            "Iteration: 74000\tDLoss Real: 18.8588\tDLoss Fake: 32.3886\tGLoss: 8.8109\n",
            "Iteration: 75000\tDLoss Real: 20.8745\tDLoss Fake: 18.4695\tGLoss: 9.7096\n",
            "Iteration: 76000\tDLoss Real: 7.0409\tDLoss Fake: 38.8243\tGLoss: 4.3664\n",
            "Iteration: 77000\tDLoss Real: 25.7365\tDLoss Fake: 17.1081\tGLoss: 15.6748\n",
            "Iteration: 78000\tDLoss Real: 5.6504\tDLoss Fake: 50.9220\tGLoss: 7.2119\n",
            "Iteration: 79000\tDLoss Real: 14.0125\tDLoss Fake: 23.8258\tGLoss: 7.1845\n",
            "Iteration: 80000\tDLoss Real: 12.7637\tDLoss Fake: 32.4349\tGLoss: 2.2014\n",
            "Iteration: 81000\tDLoss Real: 17.4999\tDLoss Fake: 35.2668\tGLoss: 22.3407\n",
            "Iteration: 82000\tDLoss Real: 15.3259\tDLoss Fake: 34.1550\tGLoss: 3.6180\n",
            "Iteration: 83000\tDLoss Real: 17.1610\tDLoss Fake: 29.6998\tGLoss: 1.3639\n",
            "Iteration: 84000\tDLoss Real: 44.6243\tDLoss Fake: 20.0958\tGLoss: 8.5362\n",
            "Iteration: 85000\tDLoss Real: 22.1712\tDLoss Fake: 18.6301\tGLoss: 7.8616\n",
            "Iteration: 86000\tDLoss Real: 35.6370\tDLoss Fake: 29.1167\tGLoss: 7.7407\n",
            "Iteration: 87000\tDLoss Real: 35.8135\tDLoss Fake: 27.0352\tGLoss: 1.5463\n",
            "Iteration: 88000\tDLoss Real: 12.2598\tDLoss Fake: 57.0171\tGLoss: 4.7215\n",
            "Iteration: 89000\tDLoss Real: 18.8143\tDLoss Fake: 37.2298\tGLoss: 9.8080\n",
            "Iteration: 90000\tDLoss Real: 20.2668\tDLoss Fake: 31.5371\tGLoss: 13.2856\n",
            "Iteration: 91000\tDLoss Real: 47.6391\tDLoss Fake: 3.3685\tGLoss: 17.8624\n",
            "Iteration: 92000\tDLoss Real: 27.6472\tDLoss Fake: 28.2235\tGLoss: 10.8299\n",
            "Iteration: 93000\tDLoss Real: 45.6209\tDLoss Fake: 5.9468\tGLoss: 10.0624\n",
            "Iteration: 94000\tDLoss Real: 39.6811\tDLoss Fake: 17.6792\tGLoss: 16.7481\n",
            "Iteration: 95000\tDLoss Real: 26.6152\tDLoss Fake: 23.4331\tGLoss: 19.6539\n",
            "Iteration: 96000\tDLoss Real: 24.7476\tDLoss Fake: 40.3880\tGLoss: 6.9983\n",
            "Iteration: 97000\tDLoss Real: 21.2450\tDLoss Fake: 61.2738\tGLoss: 9.4444\n",
            "Iteration: 98000\tDLoss Real: 32.9163\tDLoss Fake: 31.1589\tGLoss: 2.9836\n",
            "Iteration: 99000\tDLoss Real: 17.3552\tDLoss Fake: 32.0364\tGLoss: 11.3795\n"
          ],
          "name": "stdout"
        }
      ]
    },
    {
      "metadata": {
        "id": "qFbAiOhttGgJ",
        "colab_type": "code",
        "colab": {
          "autoexec": {
            "startup": false,
            "wait_interval": 0
          },
          "output_extras": [
            {
              "item_id": 1
            },
            {
              "item_id": 2
            },
            {
              "item_id": 3
            },
            {
              "item_id": 4
            },
            {
              "item_id": 5
            },
            {
              "item_id": 6
            },
            {
              "item_id": 7
            },
            {
              "item_id": 8
            },
            {
              "item_id": 9
            },
            {
              "item_id": 10
            },
            {
              "item_id": 11
            }
          ],
          "base_uri": "https://localhost:8080/",
          "height": 1454
        },
        "outputId": "3fca7777-c55d-4e40-dbc2-93bcdd61e1ea",
        "executionInfo": {
          "status": "ok",
          "timestamp": 1522573296954,
          "user_tz": -330,
          "elapsed": 2150,
          "user": {
            "displayName": "Mayur Kulkarni",
            "photoUrl": "https://lh3.googleusercontent.com/a/default-user=s128",
            "userId": "116301151646646358552"
          }
        }
      },
      "cell_type": "code",
      "source": [
        "with tf.Session() as sess:\n",
        "    saver.restore(sess, \"/content/gan/model\")\n",
        "    z_batch = np.random.normal(0, 1, size=[10, z_dimensions])\n",
        "    generated_image = generator(z_placeholder, 10, z_dimensions)\n",
        "    image = sess.run(generated_image, feed_dict={z_placeholder: z_batch})\n",
        "    images = image.reshape([-1, 28, 28])\n",
        "    for image_val in images:\n",
        "        plt.figure(figsize=(2, 2))\n",
        "        plt.imshow(image_val, cmap=\"Greys\")\n",
        "        plt.show()"
      ],
      "execution_count": 28,
      "outputs": [
        {
          "output_type": "stream",
          "text": [
            "INFO:tensorflow:Restoring parameters from /content/gan/model\n"
          ],
          "name": "stdout"
        },
        {
          "output_type": "display_data",
          "data": {
            "image/png": "[encoded data removed]",
            "text/plain": [
              "<matplotlib.figure.Figure at 0x7f8dff0657b8>"
            ]
          },
          "metadata": {
            "tags": []
          }
        },
        {
          "output_type": "display_data",
          "data": {
            "image/png": "[encoded data removed]",
            "text/plain": [
              "<matplotlib.figure.Figure at 0x7f8de847acc0>"
            ]
          },
          "metadata": {
            "tags": []
          }
        },
        {
          "output_type": "display_data",
          "data": {
            "image/png": "[encoded data removed]",
            "text/plain": [
              "<matplotlib.figure.Figure at 0x7f8e0b6bd390>"
            ]
          },
          "metadata": {
            "tags": []
          }
        },
        {
          "output_type": "display_data",
          "data": {
            "image/png": "[encoded data removed]",
            "text/plain": [
              "<matplotlib.figure.Figure at 0x7f8de846a668>"
            ]
          },
          "metadata": {
            "tags": []
          }
        },
        {
          "output_type": "display_data",
          "data": {
            "image/png": "[encoded data removed]",
            "text/plain": [
              "<matplotlib.figure.Figure at 0x7f8de82f75f8>"
            ]
          },
          "metadata": {
            "tags": []
          }
        },
        {
          "output_type": "display_data",
          "data": {
            "image/png": "[encoded data removed]",
            "text/plain": [
              "<matplotlib.figure.Figure at 0x7f8de82d0668>"
            ]
          },
          "metadata": {
            "tags": []
          }
        },
        {
          "output_type": "display_data",
          "data": {
            "image/png": "[encoded data removed]",
            "text/plain": [
              "<matplotlib.figure.Figure at 0x7f8e0ba7c4e0>"
            ]
          },
          "metadata": {
            "tags": []
          }
        },
        {
          "output_type": "display_data",
          "data": {
            "image/png": "[encoded data removed]",
            "text/plain": [
              "<matplotlib.figure.Figure at 0x7f8e0b684a90>"
            ]
          },
          "metadata": {
            "tags": []
          }
        },
        {
          "output_type": "display_data",
          "data": {
            "image/png": "[encoded data removed]",
            "text/plain": [
              "<matplotlib.figure.Figure at 0x7f8e0b8f55c0>"
            ]
          },
          "metadata": {
            "tags": []
          }
        },
        {
          "output_type": "display_data",
          "data": {
            "image/png": "[encoded data removed]",
            "text/plain": [
              "<matplotlib.figure.Figure at 0x7f8e0babe710>"
            ]
          },
          "metadata": {
            "tags": []
          }
        }
      ]
    },
    {
      "metadata": {
        "id": "DNaOFnUZUM51",
        "colab_type": "code",
        "colab": {
          "autoexec": {
            "startup": false,
            "wait_interval": 0
          }
        }
      },
      "cell_type": "code",
      "source": [
        "!tar -cf gan.tar gan\n"
      ],
      "execution_count": 0,
      "outputs": []
    },
    {
      "metadata": {
        "id": "1Brf8VvqUVgk",
        "colab_type": "code",
        "colab": {
          "autoexec": {
            "startup": false,
            "wait_interval": 0
          },
          "output_extras": [
            {
              "item_id": 1
            }
          ],
          "base_uri": "https://localhost:8080/",
          "height": 34
        },
        "outputId": "0ef21f54-f44d-467b-feab-637d7dc0c52c",
        "executionInfo": {
          "status": "ok",
          "timestamp": 1522573316192,
          "user_tz": -330,
          "elapsed": 7008,
          "user": {
            "displayName": "Mayur Kulkarni",
            "photoUrl": "https://lh3.googleusercontent.com/a/default-user=s128",
            "userId": "116301151646646358552"
          }
        }
      },
      "cell_type": "code",
      "source": [
        "!curl --upload-file /content/gan.tar https://transfer.sh/gan.tar"
      ],
      "execution_count": 30,
      "outputs": [
        {
          "output_type": "stream",
          "text": [
            "https://transfer.sh/O9qXJ/gan.tar"
          ],
          "name": "stdout"
        }
      ]
    },
    {
      "metadata": {
        "id": "n2wzQ8cAUjFY",
        "colab_type": "code",
        "colab": {
          "autoexec": {
            "startup": false,
            "wait_interval": 0
          }
        }
      },
      "cell_type": "code",
      "source": [
        "# https://transfer.sh/O9qXJ/gan.tar"
      ],
      "execution_count": 0,
      "outputs": []
    },
    {
      "metadata": {
        "id": "GzyTkb54U8a2",
        "colab_type": "code",
        "colab": {
          "autoexec": {
            "startup": false,
            "wait_interval": 0
          },
          "output_extras": [
            {
              "item_id": 36
            }
          ],
          "base_uri": "https://localhost:8080/",
          "height": 69
        },
        "outputId": "e452546d-8a23-4ee0-e682-b2470e225ca7",
        "executionInfo": {
          "status": "ok",
          "timestamp": 1521954720830,
          "user_tz": -330,
          "elapsed": 36131,
          "user": {
            "displayName": "Mayur Kulkarni",
            "photoUrl": "https://lh3.googleusercontent.com/a/default-user=s128",
            "userId": "116301151646646358552"
          }
        }
      },
      "cell_type": "code",
      "source": [
        "! curl --output gan.tar https://transfer.sh/Tsi6K/gan.tar\n"
      ],
      "execution_count": 34,
      "outputs": [
        {
          "output_type": "stream",
          "text": [
            "  % Total    % Received % Xferd  Average Speed   Time    Time     Time  Current\r\n",
            "                                 Dload  Upload   Total   Spent    Left  Speed\n",
            "100 66.2M  100 66.2M    0     0  1996k      0  0:00:34  0:00:34 --:--:-- 4001k\n"
          ],
          "name": "stdout"
        }
      ]
    },
    {
      "metadata": {
        "id": "NKkQvaUPaWHI",
        "colab_type": "code",
        "colab": {
          "autoexec": {
            "startup": false,
            "wait_interval": 0
          },
          "output_extras": [
            {
              "item_id": 1
            }
          ],
          "base_uri": "https://localhost:8080/",
          "height": 34
        },
        "outputId": "dfa03268-3218-4f4f-b432-24f3be2f14e7",
        "executionInfo": {
          "status": "ok",
          "timestamp": 1521954844241,
          "user_tz": -330,
          "elapsed": 889,
          "user": {
            "displayName": "Mayur Kulkarni",
            "photoUrl": "https://lh3.googleusercontent.com/a/default-user=s128",
            "userId": "116301151646646358552"
          }
        }
      },
      "cell_type": "code",
      "source": [
        "! ls /content/gan/"
      ],
      "execution_count": 42,
      "outputs": [
        {
          "output_type": "stream",
          "text": [
            "checkpoint  model.data-00000-of-00001  model.index  model.meta\r\n"
          ],
          "name": "stdout"
        }
      ]
    },
    {
      "metadata": {
        "id": "PFiXqxsOU9ny",
        "colab_type": "code",
        "colab": {
          "autoexec": {
            "startup": false,
            "wait_interval": 0
          }
        }
      },
      "cell_type": "code",
      "source": [
        ""
      ],
      "execution_count": 0,
      "outputs": []
    }
  ]
}